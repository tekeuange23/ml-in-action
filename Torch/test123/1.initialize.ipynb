{
 "cells": [
  {
   "cell_type": "markdown",
   "metadata": {},
   "source": [
    "## Init Tensor"
   ]
  },
  {
   "cell_type": "code",
   "execution_count": 1,
   "metadata": {},
   "outputs": [],
   "source": [
    "import torch\n",
    "import matplotlib.pyplot as plt\n"
   ]
  },
  {
   "cell_type": "code",
   "execution_count": 2,
   "metadata": {},
   "outputs": [
    {
     "name": "stdout",
     "output_type": "stream",
     "text": [
      "Using cuda device\n",
      "tensor([[1., 2., 3.],\n",
      "        [4., 5., 6.]], device='cuda:0', dtype=torch.float16,\n",
      "       requires_grad=True)\n",
      "torch.float16\n",
      "cuda:0\n",
      "torch.Size([2, 3])\n",
      "True\n"
     ]
    }
   ],
   "source": [
    "device = 'cuda' if torch.cuda.is_available() else 'cpu'\n",
    "print(f'Using {device} device')\n",
    "\n",
    "t = torch.tensor([[1, 2, 3], [4, 5, 6]], dtype=torch.float16, device=device, requires_grad=True)\n",
    "print(t)\n",
    "print(t.dtype)\n",
    "print(t.device)\n",
    "print(t.shape)\n",
    "print(t.requires_grad)"
   ]
  },
  {
   "cell_type": "markdown",
   "metadata": {},
   "source": [
    "## Common Init"
   ]
  },
  {
   "cell_type": "code",
   "execution_count": 3,
   "metadata": {},
   "outputs": [
    {
     "name": "stdout",
     "output_type": "stream",
     "text": [
      "Empty Tensor:\n",
      "tensor([[1., 2., 3., 4., 5.],\n",
      "        [6., 0., 0., 0., 0.]], device='cuda:0')\n",
      "\n",
      "Zeros Tensor:\n",
      "tensor([[0., 0., 0., 0., 0.],\n",
      "        [0., 0., 0., 0., 0.]], device='cuda:0')\n",
      "\n",
      "Ones Tensor:\n",
      "tensor([[1., 1., 1., 1., 1.],\n",
      "        [1., 1., 1., 1., 1.]], device='cuda:0')\n",
      "\n",
      "Random Tensor:\n",
      "tensor([[0.1927, 0.4531, 0.1965, 0.2488, 0.5691],\n",
      "        [0.4799, 0.6306, 0.9258, 0.4264, 0.6085]], device='cuda:0')\n",
      "\n",
      "IDE Tensor:\n",
      "tensor([[1., 0., 0., 0., 0.],\n",
      "        [0., 1., 0., 0., 0.],\n",
      "        [0., 0., 1., 0., 0.],\n",
      "        [0., 0., 0., 1., 0.]])\n",
      "\n",
      "Diag Tensor:\n",
      "tensor([[1., 0., 0.],\n",
      "        [0., 1., 0.],\n",
      "        [0., 0., 1.]])\n",
      "\n",
      "Arange Tensor:\n",
      "tensor([[ 0,  1,  2,  3,  4],\n",
      "        [ 5,  6,  7,  8,  9],\n",
      "        [10, 11, 12, 13, 14]])\n",
      "\n",
      "Linspace Tensor:\n",
      "tensor([[0.0000, 0.1111, 0.2222, 0.3333, 0.4444],\n",
      "        [0.5556, 0.6667, 0.7778, 0.8889, 1.0000]])\n"
     ]
    }
   ],
   "source": [
    "# Initialize a tensor with empty\n",
    "empty = torch.empty((2, 5), device=device)\n",
    "print(\"Empty Tensor:\")\n",
    "print(empty)\n",
    "\n",
    "# Initialize a tensor with zeros\n",
    "zeros = torch.zeros((2, 5), device=device)\n",
    "print(\"\\nZeros Tensor:\")\n",
    "print(zeros)\n",
    "\n",
    "# Initialize a tensor with ones\n",
    "ones = torch.ones((2, 5), device=device)\n",
    "print(\"\\nOnes Tensor:\")\n",
    "print(ones)\n",
    "\n",
    "# Initialize a tensor with random values\n",
    "random = torch.rand((2, 5), device=device)\n",
    "print(\"\\nRandom Tensor:\")\n",
    "print(random)\n",
    "\n",
    "# Initialize a tensor with IDE values\n",
    "ide = torch.eye(4, 5)\n",
    "print(\"\\nIDE Tensor:\")\n",
    "print(ide)\n",
    "\n",
    "# Initialize a diag tensor \n",
    "diag = torch.diag(torch.ones(3))\n",
    "print(\"\\nDiag Tensor:\")\n",
    "print(diag)\n",
    "\n",
    "# Initialize a tensor with Aranged values\n",
    "arange = torch.arange(start=0, end=15, step=1).reshape(3,5)\n",
    "print(\"\\nArange Tensor:\")\n",
    "print(arange)\n",
    "\n",
    "# Initialize a tensor with LinSpace values\n",
    "linspace = torch.linspace(start=0.0, end=1, steps=10).reshape(2,5)\n",
    "print(\"\\nLinspace Tensor:\")\n",
    "print(linspace)\n",
    "\n",
    "# # Initialize a tensor with a specific value\n",
    "# specific_value = torch.full((2, 5), 7, device=device)\n",
    "# print(\"\\nSpecific Value Tensor:\")\n",
    "# print(specific_value)\n",
    "\n",
    "# # Initialize a tensor with values from a normal distribution\n",
    "# normal = torch.randn((2, 5), device=device)\n",
    "# print(\"\\nNormal Distribution Tensor:\")\n",
    "# print(normal)"
   ]
  },
  {
   "cell_type": "code",
   "execution_count": 4,
   "metadata": {},
   "outputs": [
    {
     "data": {
      "image/png": "[encoded data removed]",
      "text/plain": [
       "<Figure size 800x600 with 1 Axes>"
      ]
     },
     "metadata": {},
     "output_type": "display_data"
    }
   ],
   "source": [
    "# Create a large tensor with values from a normal distribution\n",
    "large_normal_tensor = torch.normal(mean=0.0, std=1.0, size=(10000,), device=device)\n",
    "\n",
    "# Convert the tensor to a numpy array for plotting\n",
    "large_normal_np = large_normal_tensor.cpu().numpy()\n",
    "\n",
    "# Plot a histogram of the tensor values\n",
    "plt.figure(figsize=(8, 6))\n",
    "plt.hist(large_normal_np, bins=50, density=True)\n",
    "plt.title('Histogram of Large Normal Distribution Tensor')\n",
    "plt.xlabel('Value')\n",
    "plt.ylabel('Density')\n",
    "plt.show()"
   ]
  },
  {
   "cell_type": "markdown",
   "metadata": {},
   "source": [
    "## Convert"
   ]
  },
  {
   "cell_type": "code",
   "execution_count": 5,
   "metadata": {},
   "outputs": [
    {
     "name": "stdout",
     "output_type": "stream",
     "text": [
      "tensor([False,  True,  True,  True,  True,  True,  True,  True,  True,  True],\n",
      "       device='cuda:0')\n",
      "tensor([0, 1, 2, 3, 4, 5, 6, 7, 8, 9], device='cuda:0', dtype=torch.int16)\n",
      "tensor([0, 1, 2, 3, 4, 5, 6, 7, 8, 9], device='cuda:0')\n",
      "tensor([0., 1., 2., 3., 4., 5., 6., 7., 8., 9.], device='cuda:0',\n",
      "       dtype=torch.float16)\n",
      "tensor([0., 1., 2., 3., 4., 5., 6., 7., 8., 9.], device='cuda:0')\n",
      "tensor([0., 1., 2., 3., 4., 5., 6., 7., 8., 9.], device='cuda:0',\n",
      "       dtype=torch.float64)\n"
     ]
    }
   ],
   "source": [
    "t = torch.arange(10, device=device)\n",
    "\n",
    "# bool\n",
    "print(t.bool())\n",
    "\n",
    "# int\n",
    "print(t.short())\n",
    "print(t.long())  #int64\n",
    "\n",
    "# float\n",
    "print(t.half())\n",
    "print(t.float()) #float32\n",
    "print(t.double())\n",
    "\n",
    "# array to tensor\n",
    "import numpy as np \n",
    "np_array = np.zeros((5, 5))\n",
    "tensor = torch.from_numpy(np_array)\n",
    "np_array = tensor.numpy()"
   ]
  },
  {
   "cell_type": "markdown",
   "metadata": {},
   "source": [
    "## Math & Comparison ops"
   ]
  },
  {
   "cell_type": "code",
   "execution_count": 6,
   "metadata": {},
   "outputs": [
    {
     "name": "stdout",
     "output_type": "stream",
     "text": [
      "tensor([[0, 1, 2, 3, 4],\n",
      "        [5, 6, 7, 8, 9]], device='cuda:0')\n",
      "tensor([False,  True, False,  True, False], device='cuda:0')\n",
      "tensor([[2., 2., 2., 2., 2.],\n",
      "        [2., 2., 2., 2., 2.]], device='cuda:0')\n"
     ]
    }
   ],
   "source": [
    "x = torch.arange(10, device=device).reshape(2,5)\n",
    "y = torch.where(x[x >= 5] % 2 == 0, 1, 0).detach().bool()\n",
    "z = torch.ones(size=(2,5), device=device) * 2\n",
    "print(x)\n",
    "print(y)\n",
    "print(z)\n"
   ]
  },
  {
   "cell_type": "code",
   "execution_count": 7,
   "metadata": {},
   "outputs": [
    {
     "name": "stdout",
     "output_type": "stream",
     "text": [
      "tensor([[ 2.,  3.,  4.,  5.,  6.],\n",
      "        [ 7.,  8.,  9., 10., 11.]], device='cuda:0')\n",
      "tensor([[-2., -1.,  0.,  1.,  2.],\n",
      "        [ 3.,  4.,  5.,  6.,  7.]], device='cuda:0')\n",
      "tensor([[0.0000, 0.5000, 1.0000, 1.5000, 2.0000],\n",
      "        [2.5000, 3.0000, 3.5000, 4.0000, 4.5000]], device='cuda:0')\n",
      "tensor([[ 0.,  2.,  4.,  6.,  8.],\n",
      "        [10., 12., 14., 16., 18.]], device='cuda:0')\n"
     ]
    }
   ],
   "source": [
    "# Addition\n",
    "x_plus_z0 = torch.add(x, z)\n",
    "x_plus_z1 = x + z\n",
    "print(x_plus_z1)\n",
    "\n",
    "# subtraction\n",
    "x_minus_z0 = torch.subtract(x, z)\n",
    "x_minus_z1 = x - z\n",
    "print(x_minus_z1)\n",
    "\n",
    "# division\n",
    "x_div_z0 = torch.true_divide(x, z)\n",
    "x_div_z1 = x / z\n",
    "print(x_div_z0)\n",
    "\n",
    "# multiplication (element wise)\n",
    "x_times_z0 = torch.multiply(x, z)\n",
    "x_times_z1 = x * z\n",
    "print(x_times_z1)"
   ]
  },
  {
   "cell_type": "code",
   "execution_count": 8,
   "metadata": {},
   "outputs": [
    {
     "name": "stdout",
     "output_type": "stream",
     "text": [
      "tensor([[ 0,  1,  4,  9, 16],\n",
      "        [25, 36, 49, 64, 81]], device='cuda:0')\n",
      "tensor([5, 6, 7, 8, 9], device='cuda:0')\n",
      "tensor([[20., 20.],\n",
      "        [20., 20.]], device='cuda:0')\n",
      "tensor([[200., 200., 200., 200., 200.],\n",
      "        [200., 200., 200., 200., 200.],\n",
      "        [200., 200., 200., 200., 200.],\n",
      "        [200., 200., 200., 200., 200.],\n",
      "        [200., 200., 200., 200., 200.]], device='cuda:0')\n",
      "tensor(2., device='cuda:0')\n",
      "tensor([[  0,   1,   4],\n",
      "        [  9,   4,  25],\n",
      "        [ 36,   7,  64],\n",
      "        [ 81,  10, 121]])\n"
     ]
    }
   ],
   "source": [
    "# inplace operation \n",
    "t = torch.ones(size=(2,5), device=device)\n",
    "t.add_(z)\n",
    "\n",
    "# exponentiation\n",
    "e0 = x.pow(2)\n",
    "e1 = x ** 2\n",
    "print(e1)\n",
    "\n",
    "# filtering \n",
    "f0 = x[x >= 5]\n",
    "print(f0)\n",
    "\n",
    "# matrix multiplication\n",
    "mm0 = torch.mm(z, z.T)\n",
    "print(mm0)\n",
    "\n",
    "# matrix multiplication (EXP)\n",
    "m = torch.ones(size=(5, 5), device=device) * 2\n",
    "m = m.matrix_power(3)\n",
    "print(m)\n",
    "\n",
    "# dot product\n",
    "d = torch.dot(y.float(), y.float())\n",
    "print(d)\n",
    "\n",
    "# Batch Matrix multiplication\n",
    "batch, n, m, p = 32, 10, 20, 30\n",
    "t1 = torch.rand(size=(batch, n, m))\n",
    "t2 = torch.rand(size=(batch, m, p))\n",
    "bmm = torch.bmm(t1, t2) # (batch, n, p)\n",
    "\n",
    "\n",
    "# Broadcasting\n",
    "m1 = torch.arange(12).reshape(4, 3)\n",
    "m2 = torch.tensor([2, 1, 2])\n",
    "m3 = m1 - m2\n",
    "m4 = m1 ** m2\n",
    "print(m4)"
   ]
  },
  {
   "cell_type": "code",
   "execution_count": 9,
   "metadata": {},
   "outputs": [
    {
     "name": "stdout",
     "output_type": "stream",
     "text": [
      "tensor([[[ 0,  1,  2],\n",
      "         [ 3,  4,  5],\n",
      "         [ 6,  7,  8]],\n",
      "\n",
      "        [[ 9, 10, 11],\n",
      "         [12, 13, 14],\n",
      "         [15, 16, 17]],\n",
      "\n",
      "        [[18, 19, 20],\n",
      "         [21, 22, 23],\n",
      "         [24, 25, 26]]], device='cuda:0')\n",
      "tensor([[27, 30, 33],\n",
      "        [36, 39, 42],\n",
      "        [45, 48, 51]], device='cuda:0')\n",
      "torch.return_types.max(\n",
      "values=tensor([[18, 19, 20],\n",
      "        [21, 22, 23],\n",
      "        [24, 25, 26]], device='cuda:0'),\n",
      "indices=tensor([[2, 2, 2],\n",
      "        [2, 2, 2],\n",
      "        [2, 2, 2]], device='cuda:0'))\n",
      "torch.return_types.min(\n",
      "values=tensor([[0, 1, 2],\n",
      "        [3, 4, 5],\n",
      "        [6, 7, 8]], device='cuda:0'),\n",
      "indices=tensor([[0, 0, 0],\n",
      "        [0, 0, 0],\n",
      "        [0, 0, 0]], device='cuda:0'))\n",
      "tensor([[[20, 19, 18],\n",
      "         [17, 16, 15],\n",
      "         [14, 13, 12]],\n",
      "\n",
      "        [[11, 10,  9],\n",
      "         [ 8,  7,  6],\n",
      "         [ 5,  4,  3]],\n",
      "\n",
      "        [[ 2,  1,  0],\n",
      "         [ 1,  2,  3],\n",
      "         [ 4,  5,  6]]], device='cuda:0')\n",
      "tensor([[0, 0, 0],\n",
      "        [0, 0, 0],\n",
      "        [0, 0, 0]], device='cuda:0')\n",
      "tensor([[2, 2, 2],\n",
      "        [2, 2, 2],\n",
      "        [2, 2, 2]], device='cuda:0')\n",
      "tensor([[ 9., 10., 11.],\n",
      "        [12., 13., 14.],\n",
      "        [15., 16., 17.]], device='cuda:0')\n",
      "tensor([[False, False,  True, False, False],\n",
      "        [False, False, False, False, False]], device='cuda:0')\n",
      "tensor([[[18, 19, 20],\n",
      "         [21, 22, 23],\n",
      "         [24, 25, 26]],\n",
      "\n",
      "        [[ 9, 10, 11],\n",
      "         [12, 13, 14],\n",
      "         [15, 16, 17]],\n",
      "\n",
      "        [[ 0,  1,  2],\n",
      "         [ 3,  4,  5],\n",
      "         [ 6,  7,  8]]], device='cuda:0')\n",
      "tensor([[[ 8,  8,  8],\n",
      "         [ 8,  8,  8],\n",
      "         [ 8,  8,  8]],\n",
      "\n",
      "        [[ 9, 10, 11],\n",
      "         [12, 13, 14],\n",
      "         [15, 16, 17]],\n",
      "\n",
      "        [[18, 18, 18],\n",
      "         [18, 18, 18],\n",
      "         [18, 18, 18]]], device='cuda:0')\n"
     ]
    }
   ],
   "source": [
    "t = torch.rand(size=(batch, n, m), device=device)\n",
    "t = torch.arange(27, device=device).reshape(shape=(3,3,3))\n",
    "print(t)\n",
    "\n",
    "# sum\n",
    "sum_d_0 = torch.sum(t, dim=0)\n",
    "print(sum_d_0)\n",
    "\n",
    "# max\n",
    "max_d_0 = torch.max(t, dim=0)\n",
    "print(max_d_0)\n",
    "\n",
    "# min\n",
    "min_d_0 = torch.min(t, dim=0)\n",
    "print(min_d_0)\n",
    "\n",
    "# abs\n",
    "abs = torch.abs(t - 20)\n",
    "print(abs)\n",
    "\n",
    "# argmin & argmax\n",
    "argmin_d_1 = torch.argmin(t, dim=1)\n",
    "argmax_d_1 = torch.argmax(t, dim=1)\n",
    "print(argmin_d_1)\n",
    "print(argmax_d_1)\n",
    "\n",
    "# mean\n",
    "mean_d_0 = torch.mean(t.float(), dim=0)\n",
    "print(mean_d_0)\n",
    "\n",
    "# equivalent\n",
    "eq = torch.eq(x, z)\n",
    "print(eq)\n",
    "\n",
    "# sorting\n",
    "sort_d_0, indices = torch.sort(t, dim=0, descending=True)\n",
    "print(sort_d_0)\n",
    "\n",
    "# clamping\n",
    "clmp = torch.clamp(t, min=8, max=18)\n",
    "print(clmp)\n"
   ]
  },
  {
   "cell_type": "markdown",
   "metadata": {},
   "source": [
    "## Indexing"
   ]
  },
  {
   "cell_type": "code",
   "execution_count": 10,
   "metadata": {},
   "outputs": [
    {
     "name": "stdout",
     "output_type": "stream",
     "text": [
      "torch.Size([10, 25])\n",
      "torch.Size([10, 1])\n"
     ]
    }
   ],
   "source": [
    "x = torch.rand(size=(10,25), device=device)\n",
    "y = torch.rand(size=(10, 1), device=device)\n",
    "print(x.shape)\n",
    "print(y.shape)"
   ]
  },
  {
   "cell_type": "code",
   "execution_count": 11,
   "metadata": {},
   "outputs": [
    {
     "data": {
      "text/plain": [
       "tensor([[0.3776, 0.1415, 0.9238, 0.3763, 0.8534, 0.1891, 0.4053, 0.7939, 0.3298,\n",
       "         0.6466, 0.8962, 0.2744, 0.3554, 0.2839, 0.0353, 0.0363, 0.8086, 0.7648,\n",
       "         0.8413, 0.5559, 0.0433, 0.9475, 0.1423, 0.8356, 0.4882],\n",
       "        [0.2094, 0.2326, 0.4559, 0.0529, 0.4533, 0.2225, 0.9302, 0.9525, 0.8097,\n",
       "         0.7247, 0.9126, 0.6381, 0.1525, 0.5582, 0.5415, 0.7585, 0.5408, 0.6663,\n",
       "         0.0818, 0.4732, 0.5585, 0.1215, 0.3633, 0.6969, 0.2649],\n",
       "        [0.9578, 0.9376, 0.4546, 0.2075, 0.3374, 0.1696, 0.1208, 0.1604, 0.4760,\n",
       "         0.3554, 0.8368, 0.9694, 0.8345, 0.2434, 0.9736, 0.9553, 0.7679, 0.8521,\n",
       "         0.3340, 0.8113, 0.5659, 0.6860, 0.2992, 0.1856, 0.1327]],\n",
       "       device='cuda:0')"
      ]
     },
     "execution_count": 11,
     "metadata": {},
     "output_type": "execute_result"
    }
   ],
   "source": [
    "x[0, :]     # all columns of the first row\n",
    "x[:, 0]     # all rows of the first column\n",
    "x[2, 0:10]  # first 10 columns of the third row\n",
    "x[0:5, 0:5] # first 5 rows and first 5 columns\n",
    "x[0:5, :]   # first 5 rows and all columns  (same as x[0:5])\n",
    "x[:, 0:5]   # all rows and first 5 columns  (same as x[0:5])\n",
    "x[[2,5,8]]"
   ]
  },
  {
   "cell_type": "code",
   "execution_count": 12,
   "metadata": {},
   "outputs": [
    {
     "name": "stdout",
     "output_type": "stream",
     "text": [
      "tensor([0, 1, 9])\n",
      "tensor([], dtype=torch.int64)\n",
      "tensor([0, 2, 4, 6, 8])\n"
     ]
    }
   ],
   "source": [
    "x = torch.arange(10)\n",
    "print(x[(x < 2) | (x > 8)])\n",
    "print(x[(x < 2) & (x > 8)])\n",
    "print(x[x.remainder(2) == 0]) # modulo\n"
   ]
  },
  {
   "cell_type": "code",
   "execution_count": 13,
   "metadata": {},
   "outputs": [
    {
     "name": "stdout",
     "output_type": "stream",
     "text": [
      "tensor([[[ 0.,  0.,  0.],\n",
      "         [ 0.,  0.,  0.],\n",
      "         [ 6.,  7.,  8.]],\n",
      "\n",
      "        [[ 9., 10., 11.],\n",
      "         [12., 13., 14.],\n",
      "         [15., 16., 17.]],\n",
      "\n",
      "        [[18., 19., 20.],\n",
      "         [21., 22., 23.],\n",
      "         [24., 25., 26.]]], device='cuda:0')\n",
      "3\n",
      "27\n",
      "torch.Size([3, 3, 3])\n",
      "torch.Size([3, 3, 3])\n"
     ]
    }
   ],
   "source": [
    "print(torch.where(t > 5, t, torch.tensor(0.0, device=device)))\n",
    "print(t.ndimension())\n",
    "print(t.numel())\n",
    "print(t.size())\n",
    "print(t.shape)"
   ]
  },
  {
   "cell_type": "markdown",
   "metadata": {},
   "source": [
    "## Reshaping"
   ]
  },
  {
   "cell_type": "code",
   "execution_count": 14,
   "metadata": {},
   "outputs": [
    {
     "name": "stdout",
     "output_type": "stream",
     "text": [
      "tensor([[0, 1, 2],\n",
      "        [3, 4, 5],\n",
      "        [6, 7, 8]], device='cuda:0')\n",
      "tensor([0, 3, 6, 1, 4, 7, 2, 5, 8], device='cuda:0')\n"
     ]
    }
   ],
   "source": [
    "x = torch.arange(9, device=device)\n",
    "x_3x3 = x.view(3, 3)\n",
    "print(x_3x3)\n",
    "\n",
    "y = x_3x3.t()\n",
    "# print(y.view(9))\n",
    "print(y.contiguous().view(9))"
   ]
  },
  {
   "cell_type": "code",
   "execution_count": 15,
   "metadata": {},
   "outputs": [
    {
     "name": "stdout",
     "output_type": "stream",
     "text": [
      "torch.Size([4, 5])\n"
     ]
    }
   ],
   "source": [
    "x1 = torch.rand(size=(2, 5))\n",
    "x2 = torch.rand(size=(2, 5))\n",
    "x3 = torch.cat((x1, x2), dim=0)\n",
    "print(x3.shape)"
   ]
  },
  {
   "cell_type": "code",
   "execution_count": 16,
   "metadata": {},
   "outputs": [
    {
     "name": "stdout",
     "output_type": "stream",
     "text": [
      "torch.Size([10])\n",
      "torch.Size([3, 9])\n"
     ]
    }
   ],
   "source": [
    "# flattern\n",
    "print(x1.view(-1).shape)\n",
    "print(t.view(3, -1).shape)"
   ]
  },
  {
   "cell_type": "code",
   "execution_count": 17,
   "metadata": {},
   "outputs": [
    {
     "name": "stdout",
     "output_type": "stream",
     "text": [
      "tensor([[[ 0,  1,  2],\n",
      "         [ 3,  4,  5],\n",
      "         [ 6,  7,  8]],\n",
      "\n",
      "        [[ 9, 10, 11],\n",
      "         [12, 13, 14],\n",
      "         [15, 16, 17]],\n",
      "\n",
      "        [[18, 19, 20],\n",
      "         [21, 22, 23],\n",
      "         [24, 25, 26]]], device='cuda:0')\n",
      "tensor([[[ 0,  3,  6],\n",
      "         [ 1,  4,  7],\n",
      "         [ 2,  5,  8]],\n",
      "\n",
      "        [[ 9, 12, 15],\n",
      "         [10, 13, 16],\n",
      "         [11, 14, 17]],\n",
      "\n",
      "        [[18, 21, 24],\n",
      "         [19, 22, 25],\n",
      "         [20, 23, 26]]], device='cuda:0')\n"
     ]
    }
   ],
   "source": [
    "z = t.permute(0, 2, 1)\n",
    "print(t)\n",
    "print(z)"
   ]
  },
  {
   "cell_type": "code",
   "execution_count": 18,
   "metadata": {},
   "outputs": [
    {
     "name": "stdout",
     "output_type": "stream",
     "text": [
      "torch.Size([10])\n",
      "torch.Size([1, 10])\n",
      "torch.Size([10, 1])\n",
      "torch.Size([1, 10, 1])\n",
      "torch.Size([10, 1])\n"
     ]
    }
   ],
   "source": [
    "x4 = torch.arange(10)\n",
    "print(x4.shape)\n",
    "print(x4.unsqueeze(0).shape)\n",
    "print(x4.unsqueeze(1).shape)\n",
    "print(x4.unsqueeze(1).unsqueeze(0).shape)\n",
    "print(x4.unsqueeze(1).unsqueeze(0).squeeze(0).shape)"
   ]
  }
 ],
 "metadata": {
  "kernelspec": {
   "display_name": "ai",
   "language": "python",
   "name": "python3"
  },
  "language_info": {
   "codemirror_mode": {
    "name": "ipython",
    "version": 3
   },
   "file_extension": ".py",
   "mimetype": "text/x-python",
   "name": "python",
   "nbconvert_exporter": "python",
   "pygments_lexer": "ipython3",
   "version": "3.9.18"
  }
 },
 "nbformat": 4,
 "nbformat_minor": 2
}
