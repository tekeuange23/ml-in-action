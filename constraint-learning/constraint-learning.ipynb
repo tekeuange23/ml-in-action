{
 "cells": [
  {
   "cell_type": "markdown",
   "id": "5ce0d303",
   "metadata": {},
   "source": [
    "# Constraint Learning "
   ]
  },
  {
   "cell_type": "markdown",
   "id": "54054eea",
   "metadata": {},
   "source": [
    "### Librairies"
   ]
  },
  {
   "cell_type": "code",
   "execution_count": 1,
   "id": "afba6d34",
   "metadata": {
    "scrolled": true
   },
   "outputs": [],
   "source": [
    "import warnings\n",
    "import pandas as pd\n",
    "import matplotlib.pyplot as plt\n",
    "from sklearn.preprocessing import RobustScaler\n",
    "from sklearn.model_selection import train_test_split\n",
    "\n",
    "\n",
    "pd.set_option('display.max_columns',None)\n",
    "warnings.filterwarnings('ignore')\n",
    "%matplotlib inline "
   ]
  },
  {
   "cell_type": "markdown",
   "id": "b3c2d20d",
   "metadata": {},
   "source": [
    "### Importing the NSL_KDD dataset\n"
   ]
  },
  {
   "cell_type": "code",
   "execution_count": 4,
   "id": "f673f652",
   "metadata": {},
   "outputs": [],
   "source": [
    "data_train = pd.read_csv('../datasets/NSL-KDD/KDDTrain+.txt')\n",
    "data_test = pd.read_csv('../datasets/NSL-KDD/KDDTest+.txt')\n",
    "\n",
    "\n",
    "columns = (['duration','protocol_type','service','flag','src_bytes','dst_bytes','land','wrong_fragment','urgent','hot'\n",
    ",'num_failed_logins','logged_in','num_compromised','root_shell','su_attempted','num_root','num_file_creations'\n",
    ",'num_shells','num_access_files','num_outbound_cmds','is_host_login','is_guest_login','count','srv_count','serror_rate'\n",
    ",'srv_serror_rate','rerror_rate','srv_rerror_rate','same_srv_rate','diff_srv_rate','srv_diff_host_rate','dst_host_count','dst_host_srv_count'\n",
    ",'dst_host_same_srv_rate','dst_host_diff_srv_rate','dst_host_same_src_port_rate','dst_host_srv_diff_host_rate','dst_host_serror_rate'\n",
    ",'dst_host_srv_serror_rate','dst_host_rerror_rate','dst_host_srv_rerror_rate','outcome','level'])\n",
    "\n",
    "data_train.columns = columns\n",
    "data_test.columns = columns"
   ]
  },
  {
   "cell_type": "markdown",
   "id": "4a883f89",
   "metadata": {},
   "source": [
    "### Exploring the data"
   ]
  },
  {
   "cell_type": "code",
   "execution_count": 5,
   "id": "d1bef9cf",
   "metadata": {},
   "outputs": [
    {
     "data": {
      "text/plain": [
       "(125972, 43)"
      ]
     },
     "execution_count": 5,
     "metadata": {},
     "output_type": "execute_result"
    }
   ],
   "source": [
    "data_train.shape"
   ]
  },
  {
   "cell_type": "code",
   "execution_count": 6,
   "id": "59f9c1da",
   "metadata": {},
   "outputs": [
    {
     "data": {
      "text/html": [
       "<div>\n",
       "<style scoped>\n",
       "    .dataframe tbody tr th:only-of-type {\n",
       "        vertical-align: middle;\n",
       "    }\n",
       "\n",
       "    .dataframe tbody tr th {\n",
       "        vertical-align: top;\n",
       "    }\n",
       "\n",
       "    .dataframe thead th {\n",
       "        text-align: right;\n",
       "    }\n",
       "</style>\n",
       "<table border=\"1\" class=\"dataframe\">\n",
       "  <thead>\n",
       "    <tr style=\"text-align: right;\">\n",
       "      <th></th>\n",
       "      <th>level</th>\n",
       "    </tr>\n",
       "  </thead>\n",
       "  <tbody>\n",
       "    <tr>\n",
       "      <th>count</th>\n",
       "      <td>125972.000000</td>\n",
       "    </tr>\n",
       "    <tr>\n",
       "      <th>mean</th>\n",
       "      <td>19.504056</td>\n",
       "    </tr>\n",
       "    <tr>\n",
       "      <th>std</th>\n",
       "      <td>2.291512</td>\n",
       "    </tr>\n",
       "    <tr>\n",
       "      <th>min</th>\n",
       "      <td>0.000000</td>\n",
       "    </tr>\n",
       "    <tr>\n",
       "      <th>25%</th>\n",
       "      <td>18.000000</td>\n",
       "    </tr>\n",
       "    <tr>\n",
       "      <th>50%</th>\n",
       "      <td>20.000000</td>\n",
       "    </tr>\n",
       "    <tr>\n",
       "      <th>75%</th>\n",
       "      <td>21.000000</td>\n",
       "    </tr>\n",
       "    <tr>\n",
       "      <th>max</th>\n",
       "      <td>21.000000</td>\n",
       "    </tr>\n",
       "  </tbody>\n",
       "</table>\n",
       "</div>"
      ],
      "text/plain": [
       "               level\n",
       "count  125972.000000\n",
       "mean       19.504056\n",
       "std         2.291512\n",
       "min         0.000000\n",
       "25%        18.000000\n",
       "50%        20.000000\n",
       "75%        21.000000\n",
       "max        21.000000"
      ]
     },
     "execution_count": 6,
     "metadata": {},
     "output_type": "execute_result"
    }
   ],
   "source": [
    "data_train[['level']].describe()\n",
    "# data_train.head()"
   ]
  },
  {
   "cell_type": "code",
   "execution_count": 7,
   "id": "3a4229f1",
   "metadata": {},
   "outputs": [
    {
     "name": "stdout",
     "output_type": "stream",
     "text": [
      "<class 'pandas.core.frame.DataFrame'>\n",
      "RangeIndex: 125972 entries, 0 to 125971\n",
      "Data columns (total 43 columns):\n",
      " #   Column                       Non-Null Count   Dtype  \n",
      "---  ------                       --------------   -----  \n",
      " 0   duration                     125972 non-null  int64  \n",
      " 1   protocol_type                125972 non-null  object \n",
      " 2   service                      125972 non-null  object \n",
      " 3   flag                         125972 non-null  object \n",
      " 4   src_bytes                    125972 non-null  int64  \n",
      " 5   dst_bytes                    125972 non-null  int64  \n",
      " 6   land                         125972 non-null  int64  \n",
      " 7   wrong_fragment               125972 non-null  int64  \n",
      " 8   urgent                       125972 non-null  int64  \n",
      " 9   hot                          125972 non-null  int64  \n",
      " 10  num_failed_logins            125972 non-null  int64  \n",
      " 11  logged_in                    125972 non-null  int64  \n",
      " 12  num_compromised              125972 non-null  int64  \n",
      " 13  root_shell                   125972 non-null  int64  \n",
      " 14  su_attempted                 125972 non-null  int64  \n",
      " 15  num_root                     125972 non-null  int64  \n",
      " 16  num_file_creations           125972 non-null  int64  \n",
      " 17  num_shells                   125972 non-null  int64  \n",
      " 18  num_access_files             125972 non-null  int64  \n",
      " 19  num_outbound_cmds            125972 non-null  int64  \n",
      " 20  is_host_login                125972 non-null  int64  \n",
      " 21  is_guest_login               125972 non-null  int64  \n",
      " 22  count                        125972 non-null  int64  \n",
      " 23  srv_count                    125972 non-null  int64  \n",
      " 24  serror_rate                  125972 non-null  float64\n",
      " 25  srv_serror_rate              125972 non-null  float64\n",
      " 26  rerror_rate                  125972 non-null  float64\n",
      " 27  srv_rerror_rate              125972 non-null  float64\n",
      " 28  same_srv_rate                125972 non-null  float64\n",
      " 29  diff_srv_rate                125972 non-null  float64\n",
      " 30  srv_diff_host_rate           125972 non-null  float64\n",
      " 31  dst_host_count               125972 non-null  int64  \n",
      " 32  dst_host_srv_count           125972 non-null  int64  \n",
      " 33  dst_host_same_srv_rate       125972 non-null  float64\n",
      " 34  dst_host_diff_srv_rate       125972 non-null  float64\n",
      " 35  dst_host_same_src_port_rate  125972 non-null  float64\n",
      " 36  dst_host_srv_diff_host_rate  125972 non-null  float64\n",
      " 37  dst_host_serror_rate         125972 non-null  float64\n",
      " 38  dst_host_srv_serror_rate     125972 non-null  float64\n",
      " 39  dst_host_rerror_rate         125972 non-null  float64\n",
      " 40  dst_host_srv_rerror_rate     125972 non-null  float64\n",
      " 41  outcome                      125972 non-null  object \n",
      " 42  level                        125972 non-null  int64  \n",
      "dtypes: float64(15), int64(24), object(4)\n",
      "memory usage: 41.3+ MB\n"
     ]
    }
   ],
   "source": [
    "data_train.info()\n"
   ]
  },
  {
   "cell_type": "code",
   "execution_count": 8,
   "id": "8ad8d50a",
   "metadata": {
    "scrolled": true
   },
   "outputs": [
    {
     "data": {
      "text/html": [
       "<style  type=\"text/css\" >\n",
       "#T_535abd9a_f10f_11ed_8532_6c8814ee31d0row0_col0,#T_535abd9a_f10f_11ed_8532_6c8814ee31d0row0_col3,#T_535abd9a_f10f_11ed_8532_6c8814ee31d0row0_col4,#T_535abd9a_f10f_11ed_8532_6c8814ee31d0row0_col5,#T_535abd9a_f10f_11ed_8532_6c8814ee31d0row0_col6,#T_535abd9a_f10f_11ed_8532_6c8814ee31d0row0_col7,#T_535abd9a_f10f_11ed_8532_6c8814ee31d0row0_col8,#T_535abd9a_f10f_11ed_8532_6c8814ee31d0row0_col9,#T_535abd9a_f10f_11ed_8532_6c8814ee31d0row0_col10,#T_535abd9a_f10f_11ed_8532_6c8814ee31d0row0_col11,#T_535abd9a_f10f_11ed_8532_6c8814ee31d0row0_col12,#T_535abd9a_f10f_11ed_8532_6c8814ee31d0row0_col13,#T_535abd9a_f10f_11ed_8532_6c8814ee31d0row0_col14,#T_535abd9a_f10f_11ed_8532_6c8814ee31d0row0_col15,#T_535abd9a_f10f_11ed_8532_6c8814ee31d0row0_col16,#T_535abd9a_f10f_11ed_8532_6c8814ee31d0row0_col17,#T_535abd9a_f10f_11ed_8532_6c8814ee31d0row0_col18,#T_535abd9a_f10f_11ed_8532_6c8814ee31d0row0_col19,#T_535abd9a_f10f_11ed_8532_6c8814ee31d0row0_col20,#T_535abd9a_f10f_11ed_8532_6c8814ee31d0row0_col21,#T_535abd9a_f10f_11ed_8532_6c8814ee31d0row0_col22,#T_535abd9a_f10f_11ed_8532_6c8814ee31d0row0_col23,#T_535abd9a_f10f_11ed_8532_6c8814ee31d0row0_col24,#T_535abd9a_f10f_11ed_8532_6c8814ee31d0row0_col25,#T_535abd9a_f10f_11ed_8532_6c8814ee31d0row0_col26,#T_535abd9a_f10f_11ed_8532_6c8814ee31d0row0_col27,#T_535abd9a_f10f_11ed_8532_6c8814ee31d0row0_col28,#T_535abd9a_f10f_11ed_8532_6c8814ee31d0row0_col29,#T_535abd9a_f10f_11ed_8532_6c8814ee31d0row0_col30,#T_535abd9a_f10f_11ed_8532_6c8814ee31d0row0_col31,#T_535abd9a_f10f_11ed_8532_6c8814ee31d0row0_col32,#T_535abd9a_f10f_11ed_8532_6c8814ee31d0row0_col33,#T_535abd9a_f10f_11ed_8532_6c8814ee31d0row0_col34,#T_535abd9a_f10f_11ed_8532_6c8814ee31d0row0_col35,#T_535abd9a_f10f_11ed_8532_6c8814ee31d0row0_col36,#T_535abd9a_f10f_11ed_8532_6c8814ee31d0row0_col37,#T_535abd9a_f10f_11ed_8532_6c8814ee31d0row0_col38,#T_535abd9a_f10f_11ed_8532_6c8814ee31d0row7_col1,#T_535abd9a_f10f_11ed_8532_6c8814ee31d0row7_col2{\n",
       "            background-color:  #08306b;\n",
       "            color:  #f1f1f1;\n",
       "            font-family:  Segoe UI;\n",
       "        }#T_535abd9a_f10f_11ed_8532_6c8814ee31d0row0_col1,#T_535abd9a_f10f_11ed_8532_6c8814ee31d0row0_col2,#T_535abd9a_f10f_11ed_8532_6c8814ee31d0row1_col0,#T_535abd9a_f10f_11ed_8532_6c8814ee31d0row1_col1,#T_535abd9a_f10f_11ed_8532_6c8814ee31d0row1_col2,#T_535abd9a_f10f_11ed_8532_6c8814ee31d0row1_col3,#T_535abd9a_f10f_11ed_8532_6c8814ee31d0row1_col4,#T_535abd9a_f10f_11ed_8532_6c8814ee31d0row1_col5,#T_535abd9a_f10f_11ed_8532_6c8814ee31d0row1_col6,#T_535abd9a_f10f_11ed_8532_6c8814ee31d0row1_col7,#T_535abd9a_f10f_11ed_8532_6c8814ee31d0row1_col8,#T_535abd9a_f10f_11ed_8532_6c8814ee31d0row1_col9,#T_535abd9a_f10f_11ed_8532_6c8814ee31d0row1_col10,#T_535abd9a_f10f_11ed_8532_6c8814ee31d0row1_col11,#T_535abd9a_f10f_11ed_8532_6c8814ee31d0row1_col12,#T_535abd9a_f10f_11ed_8532_6c8814ee31d0row1_col13,#T_535abd9a_f10f_11ed_8532_6c8814ee31d0row1_col14,#T_535abd9a_f10f_11ed_8532_6c8814ee31d0row1_col15,#T_535abd9a_f10f_11ed_8532_6c8814ee31d0row1_col16,#T_535abd9a_f10f_11ed_8532_6c8814ee31d0row1_col17,#T_535abd9a_f10f_11ed_8532_6c8814ee31d0row1_col18,#T_535abd9a_f10f_11ed_8532_6c8814ee31d0row1_col19,#T_535abd9a_f10f_11ed_8532_6c8814ee31d0row1_col20,#T_535abd9a_f10f_11ed_8532_6c8814ee31d0row1_col21,#T_535abd9a_f10f_11ed_8532_6c8814ee31d0row1_col22,#T_535abd9a_f10f_11ed_8532_6c8814ee31d0row1_col23,#T_535abd9a_f10f_11ed_8532_6c8814ee31d0row1_col24,#T_535abd9a_f10f_11ed_8532_6c8814ee31d0row1_col25,#T_535abd9a_f10f_11ed_8532_6c8814ee31d0row1_col26,#T_535abd9a_f10f_11ed_8532_6c8814ee31d0row1_col27,#T_535abd9a_f10f_11ed_8532_6c8814ee31d0row1_col28,#T_535abd9a_f10f_11ed_8532_6c8814ee31d0row1_col29,#T_535abd9a_f10f_11ed_8532_6c8814ee31d0row1_col30,#T_535abd9a_f10f_11ed_8532_6c8814ee31d0row1_col31,#T_535abd9a_f10f_11ed_8532_6c8814ee31d0row1_col32,#T_535abd9a_f10f_11ed_8532_6c8814ee31d0row1_col33,#T_535abd9a_f10f_11ed_8532_6c8814ee31d0row1_col34,#T_535abd9a_f10f_11ed_8532_6c8814ee31d0row1_col35,#T_535abd9a_f10f_11ed_8532_6c8814ee31d0row1_col36,#T_535abd9a_f10f_11ed_8532_6c8814ee31d0row1_col37,#T_535abd9a_f10f_11ed_8532_6c8814ee31d0row1_col38,#T_535abd9a_f10f_11ed_8532_6c8814ee31d0row2_col2,#T_535abd9a_f10f_11ed_8532_6c8814ee31d0row2_col3,#T_535abd9a_f10f_11ed_8532_6c8814ee31d0row2_col4,#T_535abd9a_f10f_11ed_8532_6c8814ee31d0row2_col5,#T_535abd9a_f10f_11ed_8532_6c8814ee31d0row2_col6,#T_535abd9a_f10f_11ed_8532_6c8814ee31d0row2_col7,#T_535abd9a_f10f_11ed_8532_6c8814ee31d0row2_col8,#T_535abd9a_f10f_11ed_8532_6c8814ee31d0row2_col9,#T_535abd9a_f10f_11ed_8532_6c8814ee31d0row2_col10,#T_535abd9a_f10f_11ed_8532_6c8814ee31d0row2_col11,#T_535abd9a_f10f_11ed_8532_6c8814ee31d0row2_col12,#T_535abd9a_f10f_11ed_8532_6c8814ee31d0row2_col13,#T_535abd9a_f10f_11ed_8532_6c8814ee31d0row2_col14,#T_535abd9a_f10f_11ed_8532_6c8814ee31d0row2_col15,#T_535abd9a_f10f_11ed_8532_6c8814ee31d0row2_col16,#T_535abd9a_f10f_11ed_8532_6c8814ee31d0row2_col17,#T_535abd9a_f10f_11ed_8532_6c8814ee31d0row2_col18,#T_535abd9a_f10f_11ed_8532_6c8814ee31d0row2_col19,#T_535abd9a_f10f_11ed_8532_6c8814ee31d0row2_col20,#T_535abd9a_f10f_11ed_8532_6c8814ee31d0row2_col21,#T_535abd9a_f10f_11ed_8532_6c8814ee31d0row2_col22,#T_535abd9a_f10f_11ed_8532_6c8814ee31d0row2_col23,#T_535abd9a_f10f_11ed_8532_6c8814ee31d0row2_col24,#T_535abd9a_f10f_11ed_8532_6c8814ee31d0row2_col25,#T_535abd9a_f10f_11ed_8532_6c8814ee31d0row2_col26,#T_535abd9a_f10f_11ed_8532_6c8814ee31d0row2_col27,#T_535abd9a_f10f_11ed_8532_6c8814ee31d0row2_col28,#T_535abd9a_f10f_11ed_8532_6c8814ee31d0row2_col29,#T_535abd9a_f10f_11ed_8532_6c8814ee31d0row2_col30,#T_535abd9a_f10f_11ed_8532_6c8814ee31d0row2_col31,#T_535abd9a_f10f_11ed_8532_6c8814ee31d0row2_col32,#T_535abd9a_f10f_11ed_8532_6c8814ee31d0row2_col33,#T_535abd9a_f10f_11ed_8532_6c8814ee31d0row2_col34,#T_535abd9a_f10f_11ed_8532_6c8814ee31d0row2_col35,#T_535abd9a_f10f_11ed_8532_6c8814ee31d0row2_col36,#T_535abd9a_f10f_11ed_8532_6c8814ee31d0row2_col37,#T_535abd9a_f10f_11ed_8532_6c8814ee31d0row2_col38,#T_535abd9a_f10f_11ed_8532_6c8814ee31d0row3_col0,#T_535abd9a_f10f_11ed_8532_6c8814ee31d0row3_col1,#T_535abd9a_f10f_11ed_8532_6c8814ee31d0row3_col2,#T_535abd9a_f10f_11ed_8532_6c8814ee31d0row3_col3,#T_535abd9a_f10f_11ed_8532_6c8814ee31d0row3_col4,#T_535abd9a_f10f_11ed_8532_6c8814ee31d0row3_col5,#T_535abd9a_f10f_11ed_8532_6c8814ee31d0row3_col6,#T_535abd9a_f10f_11ed_8532_6c8814ee31d0row3_col7,#T_535abd9a_f10f_11ed_8532_6c8814ee31d0row3_col8,#T_535abd9a_f10f_11ed_8532_6c8814ee31d0row3_col9,#T_535abd9a_f10f_11ed_8532_6c8814ee31d0row3_col10,#T_535abd9a_f10f_11ed_8532_6c8814ee31d0row3_col11,#T_535abd9a_f10f_11ed_8532_6c8814ee31d0row3_col12,#T_535abd9a_f10f_11ed_8532_6c8814ee31d0row3_col13,#T_535abd9a_f10f_11ed_8532_6c8814ee31d0row3_col14,#T_535abd9a_f10f_11ed_8532_6c8814ee31d0row3_col15,#T_535abd9a_f10f_11ed_8532_6c8814ee31d0row3_col16,#T_535abd9a_f10f_11ed_8532_6c8814ee31d0row3_col17,#T_535abd9a_f10f_11ed_8532_6c8814ee31d0row3_col18,#T_535abd9a_f10f_11ed_8532_6c8814ee31d0row3_col19,#T_535abd9a_f10f_11ed_8532_6c8814ee31d0row3_col20,#T_535abd9a_f10f_11ed_8532_6c8814ee31d0row3_col21,#T_535abd9a_f10f_11ed_8532_6c8814ee31d0row3_col22,#T_535abd9a_f10f_11ed_8532_6c8814ee31d0row3_col23,#T_535abd9a_f10f_11ed_8532_6c8814ee31d0row3_col24,#T_535abd9a_f10f_11ed_8532_6c8814ee31d0row3_col25,#T_535abd9a_f10f_11ed_8532_6c8814ee31d0row3_col26,#T_535abd9a_f10f_11ed_8532_6c8814ee31d0row3_col27,#T_535abd9a_f10f_11ed_8532_6c8814ee31d0row3_col28,#T_535abd9a_f10f_11ed_8532_6c8814ee31d0row3_col29,#T_535abd9a_f10f_11ed_8532_6c8814ee31d0row3_col30,#T_535abd9a_f10f_11ed_8532_6c8814ee31d0row3_col31,#T_535abd9a_f10f_11ed_8532_6c8814ee31d0row3_col32,#T_535abd9a_f10f_11ed_8532_6c8814ee31d0row3_col33,#T_535abd9a_f10f_11ed_8532_6c8814ee31d0row3_col34,#T_535abd9a_f10f_11ed_8532_6c8814ee31d0row3_col35,#T_535abd9a_f10f_11ed_8532_6c8814ee31d0row3_col36,#T_535abd9a_f10f_11ed_8532_6c8814ee31d0row3_col37,#T_535abd9a_f10f_11ed_8532_6c8814ee31d0row3_col38,#T_535abd9a_f10f_11ed_8532_6c8814ee31d0row4_col0,#T_535abd9a_f10f_11ed_8532_6c8814ee31d0row4_col1,#T_535abd9a_f10f_11ed_8532_6c8814ee31d0row4_col2,#T_535abd9a_f10f_11ed_8532_6c8814ee31d0row4_col3,#T_535abd9a_f10f_11ed_8532_6c8814ee31d0row4_col4,#T_535abd9a_f10f_11ed_8532_6c8814ee31d0row4_col5,#T_535abd9a_f10f_11ed_8532_6c8814ee31d0row4_col6,#T_535abd9a_f10f_11ed_8532_6c8814ee31d0row4_col7,#T_535abd9a_f10f_11ed_8532_6c8814ee31d0row4_col8,#T_535abd9a_f10f_11ed_8532_6c8814ee31d0row4_col9,#T_535abd9a_f10f_11ed_8532_6c8814ee31d0row4_col10,#T_535abd9a_f10f_11ed_8532_6c8814ee31d0row4_col11,#T_535abd9a_f10f_11ed_8532_6c8814ee31d0row4_col12,#T_535abd9a_f10f_11ed_8532_6c8814ee31d0row4_col13,#T_535abd9a_f10f_11ed_8532_6c8814ee31d0row4_col14,#T_535abd9a_f10f_11ed_8532_6c8814ee31d0row4_col15,#T_535abd9a_f10f_11ed_8532_6c8814ee31d0row4_col16,#T_535abd9a_f10f_11ed_8532_6c8814ee31d0row4_col17,#T_535abd9a_f10f_11ed_8532_6c8814ee31d0row4_col18,#T_535abd9a_f10f_11ed_8532_6c8814ee31d0row4_col19,#T_535abd9a_f10f_11ed_8532_6c8814ee31d0row4_col20,#T_535abd9a_f10f_11ed_8532_6c8814ee31d0row4_col21,#T_535abd9a_f10f_11ed_8532_6c8814ee31d0row4_col22,#T_535abd9a_f10f_11ed_8532_6c8814ee31d0row4_col23,#T_535abd9a_f10f_11ed_8532_6c8814ee31d0row4_col24,#T_535abd9a_f10f_11ed_8532_6c8814ee31d0row4_col25,#T_535abd9a_f10f_11ed_8532_6c8814ee31d0row4_col26,#T_535abd9a_f10f_11ed_8532_6c8814ee31d0row4_col27,#T_535abd9a_f10f_11ed_8532_6c8814ee31d0row4_col28,#T_535abd9a_f10f_11ed_8532_6c8814ee31d0row4_col29,#T_535abd9a_f10f_11ed_8532_6c8814ee31d0row4_col30,#T_535abd9a_f10f_11ed_8532_6c8814ee31d0row4_col31,#T_535abd9a_f10f_11ed_8532_6c8814ee31d0row4_col32,#T_535abd9a_f10f_11ed_8532_6c8814ee31d0row4_col33,#T_535abd9a_f10f_11ed_8532_6c8814ee31d0row4_col34,#T_535abd9a_f10f_11ed_8532_6c8814ee31d0row4_col35,#T_535abd9a_f10f_11ed_8532_6c8814ee31d0row4_col36,#T_535abd9a_f10f_11ed_8532_6c8814ee31d0row4_col37,#T_535abd9a_f10f_11ed_8532_6c8814ee31d0row4_col38,#T_535abd9a_f10f_11ed_8532_6c8814ee31d0row5_col0,#T_535abd9a_f10f_11ed_8532_6c8814ee31d0row5_col1,#T_535abd9a_f10f_11ed_8532_6c8814ee31d0row5_col2,#T_535abd9a_f10f_11ed_8532_6c8814ee31d0row5_col3,#T_535abd9a_f10f_11ed_8532_6c8814ee31d0row5_col4,#T_535abd9a_f10f_11ed_8532_6c8814ee31d0row5_col5,#T_535abd9a_f10f_11ed_8532_6c8814ee31d0row5_col6,#T_535abd9a_f10f_11ed_8532_6c8814ee31d0row5_col7,#T_535abd9a_f10f_11ed_8532_6c8814ee31d0row5_col8,#T_535abd9a_f10f_11ed_8532_6c8814ee31d0row5_col9,#T_535abd9a_f10f_11ed_8532_6c8814ee31d0row5_col10,#T_535abd9a_f10f_11ed_8532_6c8814ee31d0row5_col11,#T_535abd9a_f10f_11ed_8532_6c8814ee31d0row5_col12,#T_535abd9a_f10f_11ed_8532_6c8814ee31d0row5_col13,#T_535abd9a_f10f_11ed_8532_6c8814ee31d0row5_col14,#T_535abd9a_f10f_11ed_8532_6c8814ee31d0row5_col15,#T_535abd9a_f10f_11ed_8532_6c8814ee31d0row5_col16,#T_535abd9a_f10f_11ed_8532_6c8814ee31d0row5_col17,#T_535abd9a_f10f_11ed_8532_6c8814ee31d0row5_col18,#T_535abd9a_f10f_11ed_8532_6c8814ee31d0row5_col19,#T_535abd9a_f10f_11ed_8532_6c8814ee31d0row5_col20,#T_535abd9a_f10f_11ed_8532_6c8814ee31d0row5_col21,#T_535abd9a_f10f_11ed_8532_6c8814ee31d0row5_col22,#T_535abd9a_f10f_11ed_8532_6c8814ee31d0row5_col23,#T_535abd9a_f10f_11ed_8532_6c8814ee31d0row5_col24,#T_535abd9a_f10f_11ed_8532_6c8814ee31d0row5_col25,#T_535abd9a_f10f_11ed_8532_6c8814ee31d0row5_col26,#T_535abd9a_f10f_11ed_8532_6c8814ee31d0row5_col27,#T_535abd9a_f10f_11ed_8532_6c8814ee31d0row5_col28,#T_535abd9a_f10f_11ed_8532_6c8814ee31d0row5_col29,#T_535abd9a_f10f_11ed_8532_6c8814ee31d0row5_col30,#T_535abd9a_f10f_11ed_8532_6c8814ee31d0row5_col31,#T_535abd9a_f10f_11ed_8532_6c8814ee31d0row5_col32,#T_535abd9a_f10f_11ed_8532_6c8814ee31d0row5_col33,#T_535abd9a_f10f_11ed_8532_6c8814ee31d0row5_col34,#T_535abd9a_f10f_11ed_8532_6c8814ee31d0row5_col35,#T_535abd9a_f10f_11ed_8532_6c8814ee31d0row5_col36,#T_535abd9a_f10f_11ed_8532_6c8814ee31d0row5_col37,#T_535abd9a_f10f_11ed_8532_6c8814ee31d0row5_col38,#T_535abd9a_f10f_11ed_8532_6c8814ee31d0row6_col0,#T_535abd9a_f10f_11ed_8532_6c8814ee31d0row6_col1,#T_535abd9a_f10f_11ed_8532_6c8814ee31d0row6_col2,#T_535abd9a_f10f_11ed_8532_6c8814ee31d0row6_col3,#T_535abd9a_f10f_11ed_8532_6c8814ee31d0row6_col4,#T_535abd9a_f10f_11ed_8532_6c8814ee31d0row6_col5,#T_535abd9a_f10f_11ed_8532_6c8814ee31d0row6_col6,#T_535abd9a_f10f_11ed_8532_6c8814ee31d0row6_col7,#T_535abd9a_f10f_11ed_8532_6c8814ee31d0row6_col8,#T_535abd9a_f10f_11ed_8532_6c8814ee31d0row6_col9,#T_535abd9a_f10f_11ed_8532_6c8814ee31d0row6_col10,#T_535abd9a_f10f_11ed_8532_6c8814ee31d0row6_col11,#T_535abd9a_f10f_11ed_8532_6c8814ee31d0row6_col12,#T_535abd9a_f10f_11ed_8532_6c8814ee31d0row6_col13,#T_535abd9a_f10f_11ed_8532_6c8814ee31d0row6_col14,#T_535abd9a_f10f_11ed_8532_6c8814ee31d0row6_col15,#T_535abd9a_f10f_11ed_8532_6c8814ee31d0row6_col16,#T_535abd9a_f10f_11ed_8532_6c8814ee31d0row6_col17,#T_535abd9a_f10f_11ed_8532_6c8814ee31d0row6_col18,#T_535abd9a_f10f_11ed_8532_6c8814ee31d0row6_col19,#T_535abd9a_f10f_11ed_8532_6c8814ee31d0row6_col20,#T_535abd9a_f10f_11ed_8532_6c8814ee31d0row6_col21,#T_535abd9a_f10f_11ed_8532_6c8814ee31d0row6_col22,#T_535abd9a_f10f_11ed_8532_6c8814ee31d0row6_col23,#T_535abd9a_f10f_11ed_8532_6c8814ee31d0row6_col24,#T_535abd9a_f10f_11ed_8532_6c8814ee31d0row6_col25,#T_535abd9a_f10f_11ed_8532_6c8814ee31d0row6_col26,#T_535abd9a_f10f_11ed_8532_6c8814ee31d0row6_col27,#T_535abd9a_f10f_11ed_8532_6c8814ee31d0row6_col28,#T_535abd9a_f10f_11ed_8532_6c8814ee31d0row6_col29,#T_535abd9a_f10f_11ed_8532_6c8814ee31d0row6_col30,#T_535abd9a_f10f_11ed_8532_6c8814ee31d0row6_col31,#T_535abd9a_f10f_11ed_8532_6c8814ee31d0row6_col32,#T_535abd9a_f10f_11ed_8532_6c8814ee31d0row6_col33,#T_535abd9a_f10f_11ed_8532_6c8814ee31d0row6_col34,#T_535abd9a_f10f_11ed_8532_6c8814ee31d0row6_col35,#T_535abd9a_f10f_11ed_8532_6c8814ee31d0row6_col36,#T_535abd9a_f10f_11ed_8532_6c8814ee31d0row6_col37,#T_535abd9a_f10f_11ed_8532_6c8814ee31d0row6_col38,#T_535abd9a_f10f_11ed_8532_6c8814ee31d0row7_col3,#T_535abd9a_f10f_11ed_8532_6c8814ee31d0row7_col4,#T_535abd9a_f10f_11ed_8532_6c8814ee31d0row7_col5,#T_535abd9a_f10f_11ed_8532_6c8814ee31d0row7_col6,#T_535abd9a_f10f_11ed_8532_6c8814ee31d0row7_col7,#T_535abd9a_f10f_11ed_8532_6c8814ee31d0row7_col8,#T_535abd9a_f10f_11ed_8532_6c8814ee31d0row7_col10,#T_535abd9a_f10f_11ed_8532_6c8814ee31d0row7_col11,#T_535abd9a_f10f_11ed_8532_6c8814ee31d0row7_col13,#T_535abd9a_f10f_11ed_8532_6c8814ee31d0row7_col14,#T_535abd9a_f10f_11ed_8532_6c8814ee31d0row7_col15,#T_535abd9a_f10f_11ed_8532_6c8814ee31d0row7_col16,#T_535abd9a_f10f_11ed_8532_6c8814ee31d0row7_col17,#T_535abd9a_f10f_11ed_8532_6c8814ee31d0row7_col18,#T_535abd9a_f10f_11ed_8532_6c8814ee31d0row7_col21,#T_535abd9a_f10f_11ed_8532_6c8814ee31d0row7_col22,#T_535abd9a_f10f_11ed_8532_6c8814ee31d0row7_col23,#T_535abd9a_f10f_11ed_8532_6c8814ee31d0row7_col24,#T_535abd9a_f10f_11ed_8532_6c8814ee31d0row7_col25,#T_535abd9a_f10f_11ed_8532_6c8814ee31d0row7_col26,#T_535abd9a_f10f_11ed_8532_6c8814ee31d0row7_col27,#T_535abd9a_f10f_11ed_8532_6c8814ee31d0row7_col28,#T_535abd9a_f10f_11ed_8532_6c8814ee31d0row7_col29,#T_535abd9a_f10f_11ed_8532_6c8814ee31d0row7_col30,#T_535abd9a_f10f_11ed_8532_6c8814ee31d0row7_col31,#T_535abd9a_f10f_11ed_8532_6c8814ee31d0row7_col32,#T_535abd9a_f10f_11ed_8532_6c8814ee31d0row7_col33,#T_535abd9a_f10f_11ed_8532_6c8814ee31d0row7_col34,#T_535abd9a_f10f_11ed_8532_6c8814ee31d0row7_col35,#T_535abd9a_f10f_11ed_8532_6c8814ee31d0row7_col36,#T_535abd9a_f10f_11ed_8532_6c8814ee31d0row7_col37,#T_535abd9a_f10f_11ed_8532_6c8814ee31d0row7_col38{\n",
       "            background-color:  #f7fbff;\n",
       "            color:  #000000;\n",
       "            font-family:  Segoe UI;\n",
       "        }#T_535abd9a_f10f_11ed_8532_6c8814ee31d0row2_col0{\n",
       "            background-color:  #f3f8fe;\n",
       "            color:  #000000;\n",
       "            font-family:  Segoe UI;\n",
       "        }#T_535abd9a_f10f_11ed_8532_6c8814ee31d0row2_col1,#T_535abd9a_f10f_11ed_8532_6c8814ee31d0row7_col19,#T_535abd9a_f10f_11ed_8532_6c8814ee31d0row7_col20{\n",
       "            background-color:  #f6faff;\n",
       "            color:  #000000;\n",
       "            font-family:  Segoe UI;\n",
       "        }#T_535abd9a_f10f_11ed_8532_6c8814ee31d0row7_col0{\n",
       "            background-color:  #a9cfe5;\n",
       "            color:  #000000;\n",
       "            font-family:  Segoe UI;\n",
       "        }#T_535abd9a_f10f_11ed_8532_6c8814ee31d0row7_col9,#T_535abd9a_f10f_11ed_8532_6c8814ee31d0row7_col12{\n",
       "            background-color:  #ebf3fb;\n",
       "            color:  #000000;\n",
       "            font-family:  Segoe UI;\n",
       "        }</style><table id=\"T_535abd9a_f10f_11ed_8532_6c8814ee31d0\" ><thead>    <tr>        <th class=\"blank level0\" ></th>        <th class=\"col_heading level0 col0\" >duration</th>        <th class=\"col_heading level0 col1\" >src_bytes</th>        <th class=\"col_heading level0 col2\" >dst_bytes</th>        <th class=\"col_heading level0 col3\" >land</th>        <th class=\"col_heading level0 col4\" >wrong_fragment</th>        <th class=\"col_heading level0 col5\" >urgent</th>        <th class=\"col_heading level0 col6\" >hot</th>        <th class=\"col_heading level0 col7\" >num_failed_logins</th>        <th class=\"col_heading level0 col8\" >logged_in</th>        <th class=\"col_heading level0 col9\" >num_compromised</th>        <th class=\"col_heading level0 col10\" >root_shell</th>        <th class=\"col_heading level0 col11\" >su_attempted</th>        <th class=\"col_heading level0 col12\" >num_root</th>        <th class=\"col_heading level0 col13\" >num_file_creations</th>        <th class=\"col_heading level0 col14\" >num_shells</th>        <th class=\"col_heading level0 col15\" >num_access_files</th>        <th class=\"col_heading level0 col16\" >num_outbound_cmds</th>        <th class=\"col_heading level0 col17\" >is_host_login</th>        <th class=\"col_heading level0 col18\" >is_guest_login</th>        <th class=\"col_heading level0 col19\" >count</th>        <th class=\"col_heading level0 col20\" >srv_count</th>        <th class=\"col_heading level0 col21\" >serror_rate</th>        <th class=\"col_heading level0 col22\" >srv_serror_rate</th>        <th class=\"col_heading level0 col23\" >rerror_rate</th>        <th class=\"col_heading level0 col24\" >srv_rerror_rate</th>        <th class=\"col_heading level0 col25\" >same_srv_rate</th>        <th class=\"col_heading level0 col26\" >diff_srv_rate</th>        <th class=\"col_heading level0 col27\" >srv_diff_host_rate</th>        <th class=\"col_heading level0 col28\" >dst_host_count</th>        <th class=\"col_heading level0 col29\" >dst_host_srv_count</th>        <th class=\"col_heading level0 col30\" >dst_host_same_srv_rate</th>        <th class=\"col_heading level0 col31\" >dst_host_diff_srv_rate</th>        <th class=\"col_heading level0 col32\" >dst_host_same_src_port_rate</th>        <th class=\"col_heading level0 col33\" >dst_host_srv_diff_host_rate</th>        <th class=\"col_heading level0 col34\" >dst_host_serror_rate</th>        <th class=\"col_heading level0 col35\" >dst_host_srv_serror_rate</th>        <th class=\"col_heading level0 col36\" >dst_host_rerror_rate</th>        <th class=\"col_heading level0 col37\" >dst_host_srv_rerror_rate</th>        <th class=\"col_heading level0 col38\" >level</th>    </tr></thead><tbody>\n",
       "                <tr>\n",
       "                        <th id=\"T_535abd9a_f10f_11ed_8532_6c8814ee31d0level0_row0\" class=\"row_heading level0 row0\" >count</th>\n",
       "                        <td id=\"T_535abd9a_f10f_11ed_8532_6c8814ee31d0row0_col0\" class=\"data row0 col0\" >125972.000000</td>\n",
       "                        <td id=\"T_535abd9a_f10f_11ed_8532_6c8814ee31d0row0_col1\" class=\"data row0 col1\" >125972.000000</td>\n",
       "                        <td id=\"T_535abd9a_f10f_11ed_8532_6c8814ee31d0row0_col2\" class=\"data row0 col2\" >125972.000000</td>\n",
       "                        <td id=\"T_535abd9a_f10f_11ed_8532_6c8814ee31d0row0_col3\" class=\"data row0 col3\" >125972.000000</td>\n",
       "                        <td id=\"T_535abd9a_f10f_11ed_8532_6c8814ee31d0row0_col4\" class=\"data row0 col4\" >125972.000000</td>\n",
       "                        <td id=\"T_535abd9a_f10f_11ed_8532_6c8814ee31d0row0_col5\" class=\"data row0 col5\" >125972.000000</td>\n",
       "                        <td id=\"T_535abd9a_f10f_11ed_8532_6c8814ee31d0row0_col6\" class=\"data row0 col6\" >125972.000000</td>\n",
       "                        <td id=\"T_535abd9a_f10f_11ed_8532_6c8814ee31d0row0_col7\" class=\"data row0 col7\" >125972.000000</td>\n",
       "                        <td id=\"T_535abd9a_f10f_11ed_8532_6c8814ee31d0row0_col8\" class=\"data row0 col8\" >125972.000000</td>\n",
       "                        <td id=\"T_535abd9a_f10f_11ed_8532_6c8814ee31d0row0_col9\" class=\"data row0 col9\" >125972.000000</td>\n",
       "                        <td id=\"T_535abd9a_f10f_11ed_8532_6c8814ee31d0row0_col10\" class=\"data row0 col10\" >125972.000000</td>\n",
       "                        <td id=\"T_535abd9a_f10f_11ed_8532_6c8814ee31d0row0_col11\" class=\"data row0 col11\" >125972.000000</td>\n",
       "                        <td id=\"T_535abd9a_f10f_11ed_8532_6c8814ee31d0row0_col12\" class=\"data row0 col12\" >125972.000000</td>\n",
       "                        <td id=\"T_535abd9a_f10f_11ed_8532_6c8814ee31d0row0_col13\" class=\"data row0 col13\" >125972.000000</td>\n",
       "                        <td id=\"T_535abd9a_f10f_11ed_8532_6c8814ee31d0row0_col14\" class=\"data row0 col14\" >125972.000000</td>\n",
       "                        <td id=\"T_535abd9a_f10f_11ed_8532_6c8814ee31d0row0_col15\" class=\"data row0 col15\" >125972.000000</td>\n",
       "                        <td id=\"T_535abd9a_f10f_11ed_8532_6c8814ee31d0row0_col16\" class=\"data row0 col16\" >125972.000000</td>\n",
       "                        <td id=\"T_535abd9a_f10f_11ed_8532_6c8814ee31d0row0_col17\" class=\"data row0 col17\" >125972.000000</td>\n",
       "                        <td id=\"T_535abd9a_f10f_11ed_8532_6c8814ee31d0row0_col18\" class=\"data row0 col18\" >125972.000000</td>\n",
       "                        <td id=\"T_535abd9a_f10f_11ed_8532_6c8814ee31d0row0_col19\" class=\"data row0 col19\" >125972.000000</td>\n",
       "                        <td id=\"T_535abd9a_f10f_11ed_8532_6c8814ee31d0row0_col20\" class=\"data row0 col20\" >125972.000000</td>\n",
       "                        <td id=\"T_535abd9a_f10f_11ed_8532_6c8814ee31d0row0_col21\" class=\"data row0 col21\" >125972.000000</td>\n",
       "                        <td id=\"T_535abd9a_f10f_11ed_8532_6c8814ee31d0row0_col22\" class=\"data row0 col22\" >125972.000000</td>\n",
       "                        <td id=\"T_535abd9a_f10f_11ed_8532_6c8814ee31d0row0_col23\" class=\"data row0 col23\" >125972.000000</td>\n",
       "                        <td id=\"T_535abd9a_f10f_11ed_8532_6c8814ee31d0row0_col24\" class=\"data row0 col24\" >125972.000000</td>\n",
       "                        <td id=\"T_535abd9a_f10f_11ed_8532_6c8814ee31d0row0_col25\" class=\"data row0 col25\" >125972.000000</td>\n",
       "                        <td id=\"T_535abd9a_f10f_11ed_8532_6c8814ee31d0row0_col26\" class=\"data row0 col26\" >125972.000000</td>\n",
       "                        <td id=\"T_535abd9a_f10f_11ed_8532_6c8814ee31d0row0_col27\" class=\"data row0 col27\" >125972.000000</td>\n",
       "                        <td id=\"T_535abd9a_f10f_11ed_8532_6c8814ee31d0row0_col28\" class=\"data row0 col28\" >125972.000000</td>\n",
       "                        <td id=\"T_535abd9a_f10f_11ed_8532_6c8814ee31d0row0_col29\" class=\"data row0 col29\" >125972.000000</td>\n",
       "                        <td id=\"T_535abd9a_f10f_11ed_8532_6c8814ee31d0row0_col30\" class=\"data row0 col30\" >125972.000000</td>\n",
       "                        <td id=\"T_535abd9a_f10f_11ed_8532_6c8814ee31d0row0_col31\" class=\"data row0 col31\" >125972.000000</td>\n",
       "                        <td id=\"T_535abd9a_f10f_11ed_8532_6c8814ee31d0row0_col32\" class=\"data row0 col32\" >125972.000000</td>\n",
       "                        <td id=\"T_535abd9a_f10f_11ed_8532_6c8814ee31d0row0_col33\" class=\"data row0 col33\" >125972.000000</td>\n",
       "                        <td id=\"T_535abd9a_f10f_11ed_8532_6c8814ee31d0row0_col34\" class=\"data row0 col34\" >125972.000000</td>\n",
       "                        <td id=\"T_535abd9a_f10f_11ed_8532_6c8814ee31d0row0_col35\" class=\"data row0 col35\" >125972.000000</td>\n",
       "                        <td id=\"T_535abd9a_f10f_11ed_8532_6c8814ee31d0row0_col36\" class=\"data row0 col36\" >125972.000000</td>\n",
       "                        <td id=\"T_535abd9a_f10f_11ed_8532_6c8814ee31d0row0_col37\" class=\"data row0 col37\" >125972.000000</td>\n",
       "                        <td id=\"T_535abd9a_f10f_11ed_8532_6c8814ee31d0row0_col38\" class=\"data row0 col38\" >125972.000000</td>\n",
       "            </tr>\n",
       "            <tr>\n",
       "                        <th id=\"T_535abd9a_f10f_11ed_8532_6c8814ee31d0level0_row1\" class=\"row_heading level0 row1\" >mean</th>\n",
       "                        <td id=\"T_535abd9a_f10f_11ed_8532_6c8814ee31d0row1_col0\" class=\"data row1 col0\" >287.146929</td>\n",
       "                        <td id=\"T_535abd9a_f10f_11ed_8532_6c8814ee31d0row1_col1\" class=\"data row1 col1\" >45567.100824</td>\n",
       "                        <td id=\"T_535abd9a_f10f_11ed_8532_6c8814ee31d0row1_col2\" class=\"data row1 col2\" >19779.271433</td>\n",
       "                        <td id=\"T_535abd9a_f10f_11ed_8532_6c8814ee31d0row1_col3\" class=\"data row1 col3\" >0.000198</td>\n",
       "                        <td id=\"T_535abd9a_f10f_11ed_8532_6c8814ee31d0row1_col4\" class=\"data row1 col4\" >0.022688</td>\n",
       "                        <td id=\"T_535abd9a_f10f_11ed_8532_6c8814ee31d0row1_col5\" class=\"data row1 col5\" >0.000111</td>\n",
       "                        <td id=\"T_535abd9a_f10f_11ed_8532_6c8814ee31d0row1_col6\" class=\"data row1 col6\" >0.204411</td>\n",
       "                        <td id=\"T_535abd9a_f10f_11ed_8532_6c8814ee31d0row1_col7\" class=\"data row1 col7\" >0.001222</td>\n",
       "                        <td id=\"T_535abd9a_f10f_11ed_8532_6c8814ee31d0row1_col8\" class=\"data row1 col8\" >0.395739</td>\n",
       "                        <td id=\"T_535abd9a_f10f_11ed_8532_6c8814ee31d0row1_col9\" class=\"data row1 col9\" >0.279253</td>\n",
       "                        <td id=\"T_535abd9a_f10f_11ed_8532_6c8814ee31d0row1_col10\" class=\"data row1 col10\" >0.001342</td>\n",
       "                        <td id=\"T_535abd9a_f10f_11ed_8532_6c8814ee31d0row1_col11\" class=\"data row1 col11\" >0.001103</td>\n",
       "                        <td id=\"T_535abd9a_f10f_11ed_8532_6c8814ee31d0row1_col12\" class=\"data row1 col12\" >0.302194</td>\n",
       "                        <td id=\"T_535abd9a_f10f_11ed_8532_6c8814ee31d0row1_col13\" class=\"data row1 col13\" >0.012669</td>\n",
       "                        <td id=\"T_535abd9a_f10f_11ed_8532_6c8814ee31d0row1_col14\" class=\"data row1 col14\" >0.000413</td>\n",
       "                        <td id=\"T_535abd9a_f10f_11ed_8532_6c8814ee31d0row1_col15\" class=\"data row1 col15\" >0.004096</td>\n",
       "                        <td id=\"T_535abd9a_f10f_11ed_8532_6c8814ee31d0row1_col16\" class=\"data row1 col16\" >0.000000</td>\n",
       "                        <td id=\"T_535abd9a_f10f_11ed_8532_6c8814ee31d0row1_col17\" class=\"data row1 col17\" >0.000008</td>\n",
       "                        <td id=\"T_535abd9a_f10f_11ed_8532_6c8814ee31d0row1_col18\" class=\"data row1 col18\" >0.009423</td>\n",
       "                        <td id=\"T_535abd9a_f10f_11ed_8532_6c8814ee31d0row1_col19\" class=\"data row1 col19\" >84.108207</td>\n",
       "                        <td id=\"T_535abd9a_f10f_11ed_8532_6c8814ee31d0row1_col20\" class=\"data row1 col20\" >27.738093</td>\n",
       "                        <td id=\"T_535abd9a_f10f_11ed_8532_6c8814ee31d0row1_col21\" class=\"data row1 col21\" >0.284487</td>\n",
       "                        <td id=\"T_535abd9a_f10f_11ed_8532_6c8814ee31d0row1_col22\" class=\"data row1 col22\" >0.282488</td>\n",
       "                        <td id=\"T_535abd9a_f10f_11ed_8532_6c8814ee31d0row1_col23\" class=\"data row1 col23\" >0.119959</td>\n",
       "                        <td id=\"T_535abd9a_f10f_11ed_8532_6c8814ee31d0row1_col24\" class=\"data row1 col24\" >0.121184</td>\n",
       "                        <td id=\"T_535abd9a_f10f_11ed_8532_6c8814ee31d0row1_col25\" class=\"data row1 col25\" >0.660925</td>\n",
       "                        <td id=\"T_535abd9a_f10f_11ed_8532_6c8814ee31d0row1_col26\" class=\"data row1 col26\" >0.063053</td>\n",
       "                        <td id=\"T_535abd9a_f10f_11ed_8532_6c8814ee31d0row1_col27\" class=\"data row1 col27\" >0.097322</td>\n",
       "                        <td id=\"T_535abd9a_f10f_11ed_8532_6c8814ee31d0row1_col28\" class=\"data row1 col28\" >182.149200</td>\n",
       "                        <td id=\"T_535abd9a_f10f_11ed_8532_6c8814ee31d0row1_col29\" class=\"data row1 col29\" >115.653725</td>\n",
       "                        <td id=\"T_535abd9a_f10f_11ed_8532_6c8814ee31d0row1_col30\" class=\"data row1 col30\" >0.521244</td>\n",
       "                        <td id=\"T_535abd9a_f10f_11ed_8532_6c8814ee31d0row1_col31\" class=\"data row1 col31\" >0.082952</td>\n",
       "                        <td id=\"T_535abd9a_f10f_11ed_8532_6c8814ee31d0row1_col32\" class=\"data row1 col32\" >0.148379</td>\n",
       "                        <td id=\"T_535abd9a_f10f_11ed_8532_6c8814ee31d0row1_col33\" class=\"data row1 col33\" >0.032543</td>\n",
       "                        <td id=\"T_535abd9a_f10f_11ed_8532_6c8814ee31d0row1_col34\" class=\"data row1 col34\" >0.284455</td>\n",
       "                        <td id=\"T_535abd9a_f10f_11ed_8532_6c8814ee31d0row1_col35\" class=\"data row1 col35\" >0.278487</td>\n",
       "                        <td id=\"T_535abd9a_f10f_11ed_8532_6c8814ee31d0row1_col36\" class=\"data row1 col36\" >0.118832</td>\n",
       "                        <td id=\"T_535abd9a_f10f_11ed_8532_6c8814ee31d0row1_col37\" class=\"data row1 col37\" >0.120241</td>\n",
       "                        <td id=\"T_535abd9a_f10f_11ed_8532_6c8814ee31d0row1_col38\" class=\"data row1 col38\" >19.504056</td>\n",
       "            </tr>\n",
       "            <tr>\n",
       "                        <th id=\"T_535abd9a_f10f_11ed_8532_6c8814ee31d0level0_row2\" class=\"row_heading level0 row2\" >std</th>\n",
       "                        <td id=\"T_535abd9a_f10f_11ed_8532_6c8814ee31d0row2_col0\" class=\"data row2 col0\" >2604.525522</td>\n",
       "                        <td id=\"T_535abd9a_f10f_11ed_8532_6c8814ee31d0row2_col1\" class=\"data row2 col1\" >5870354.480801</td>\n",
       "                        <td id=\"T_535abd9a_f10f_11ed_8532_6c8814ee31d0row2_col2\" class=\"data row2 col2\" >4021285.112114</td>\n",
       "                        <td id=\"T_535abd9a_f10f_11ed_8532_6c8814ee31d0row2_col3\" class=\"data row2 col3\" >0.014086</td>\n",
       "                        <td id=\"T_535abd9a_f10f_11ed_8532_6c8814ee31d0row2_col4\" class=\"data row2 col4\" >0.253531</td>\n",
       "                        <td id=\"T_535abd9a_f10f_11ed_8532_6c8814ee31d0row2_col5\" class=\"data row2 col5\" >0.014366</td>\n",
       "                        <td id=\"T_535abd9a_f10f_11ed_8532_6c8814ee31d0row2_col6\" class=\"data row2 col6\" >2.149977</td>\n",
       "                        <td id=\"T_535abd9a_f10f_11ed_8532_6c8814ee31d0row2_col7\" class=\"data row2 col7\" >0.045239</td>\n",
       "                        <td id=\"T_535abd9a_f10f_11ed_8532_6c8814ee31d0row2_col8\" class=\"data row2 col8\" >0.489011</td>\n",
       "                        <td id=\"T_535abd9a_f10f_11ed_8532_6c8814ee31d0row2_col9\" class=\"data row2 col9\" >23.942137</td>\n",
       "                        <td id=\"T_535abd9a_f10f_11ed_8532_6c8814ee31d0row2_col10\" class=\"data row2 col10\" >0.036603</td>\n",
       "                        <td id=\"T_535abd9a_f10f_11ed_8532_6c8814ee31d0row2_col11\" class=\"data row2 col11\" >0.045155</td>\n",
       "                        <td id=\"T_535abd9a_f10f_11ed_8532_6c8814ee31d0row2_col12\" class=\"data row2 col12\" >24.399715</td>\n",
       "                        <td id=\"T_535abd9a_f10f_11ed_8532_6c8814ee31d0row2_col13\" class=\"data row2 col13\" >0.483937</td>\n",
       "                        <td id=\"T_535abd9a_f10f_11ed_8532_6c8814ee31d0row2_col14\" class=\"data row2 col14\" >0.022181</td>\n",
       "                        <td id=\"T_535abd9a_f10f_11ed_8532_6c8814ee31d0row2_col15\" class=\"data row2 col15\" >0.099370</td>\n",
       "                        <td id=\"T_535abd9a_f10f_11ed_8532_6c8814ee31d0row2_col16\" class=\"data row2 col16\" >0.000000</td>\n",
       "                        <td id=\"T_535abd9a_f10f_11ed_8532_6c8814ee31d0row2_col17\" class=\"data row2 col17\" >0.002817</td>\n",
       "                        <td id=\"T_535abd9a_f10f_11ed_8532_6c8814ee31d0row2_col18\" class=\"data row2 col18\" >0.096613</td>\n",
       "                        <td id=\"T_535abd9a_f10f_11ed_8532_6c8814ee31d0row2_col19\" class=\"data row2 col19\" >114.508828</td>\n",
       "                        <td id=\"T_535abd9a_f10f_11ed_8532_6c8814ee31d0row2_col20\" class=\"data row2 col20\" >72.636092</td>\n",
       "                        <td id=\"T_535abd9a_f10f_11ed_8532_6c8814ee31d0row2_col21\" class=\"data row2 col21\" >0.446457</td>\n",
       "                        <td id=\"T_535abd9a_f10f_11ed_8532_6c8814ee31d0row2_col22\" class=\"data row2 col22\" >0.447024</td>\n",
       "                        <td id=\"T_535abd9a_f10f_11ed_8532_6c8814ee31d0row2_col23\" class=\"data row2 col23\" >0.320437</td>\n",
       "                        <td id=\"T_535abd9a_f10f_11ed_8532_6c8814ee31d0row2_col24\" class=\"data row2 col24\" >0.323648</td>\n",
       "                        <td id=\"T_535abd9a_f10f_11ed_8532_6c8814ee31d0row2_col25\" class=\"data row2 col25\" >0.439624</td>\n",
       "                        <td id=\"T_535abd9a_f10f_11ed_8532_6c8814ee31d0row2_col26\" class=\"data row2 col26\" >0.180315</td>\n",
       "                        <td id=\"T_535abd9a_f10f_11ed_8532_6c8814ee31d0row2_col27\" class=\"data row2 col27\" >0.259831</td>\n",
       "                        <td id=\"T_535abd9a_f10f_11ed_8532_6c8814ee31d0row2_col28\" class=\"data row2 col28\" >99.206565</td>\n",
       "                        <td id=\"T_535abd9a_f10f_11ed_8532_6c8814ee31d0row2_col29\" class=\"data row2 col29\" >110.702886</td>\n",
       "                        <td id=\"T_535abd9a_f10f_11ed_8532_6c8814ee31d0row2_col30\" class=\"data row2 col30\" >0.448950</td>\n",
       "                        <td id=\"T_535abd9a_f10f_11ed_8532_6c8814ee31d0row2_col31\" class=\"data row2 col31\" >0.188922</td>\n",
       "                        <td id=\"T_535abd9a_f10f_11ed_8532_6c8814ee31d0row2_col32\" class=\"data row2 col32\" >0.308998</td>\n",
       "                        <td id=\"T_535abd9a_f10f_11ed_8532_6c8814ee31d0row2_col33\" class=\"data row2 col33\" >0.112564</td>\n",
       "                        <td id=\"T_535abd9a_f10f_11ed_8532_6c8814ee31d0row2_col34\" class=\"data row2 col34\" >0.444785</td>\n",
       "                        <td id=\"T_535abd9a_f10f_11ed_8532_6c8814ee31d0row2_col35\" class=\"data row2 col35\" >0.445670</td>\n",
       "                        <td id=\"T_535abd9a_f10f_11ed_8532_6c8814ee31d0row2_col36\" class=\"data row2 col36\" >0.306559</td>\n",
       "                        <td id=\"T_535abd9a_f10f_11ed_8532_6c8814ee31d0row2_col37\" class=\"data row2 col37\" >0.319460</td>\n",
       "                        <td id=\"T_535abd9a_f10f_11ed_8532_6c8814ee31d0row2_col38\" class=\"data row2 col38\" >2.291512</td>\n",
       "            </tr>\n",
       "            <tr>\n",
       "                        <th id=\"T_535abd9a_f10f_11ed_8532_6c8814ee31d0level0_row3\" class=\"row_heading level0 row3\" >min</th>\n",
       "                        <td id=\"T_535abd9a_f10f_11ed_8532_6c8814ee31d0row3_col0\" class=\"data row3 col0\" >0.000000</td>\n",
       "                        <td id=\"T_535abd9a_f10f_11ed_8532_6c8814ee31d0row3_col1\" class=\"data row3 col1\" >0.000000</td>\n",
       "                        <td id=\"T_535abd9a_f10f_11ed_8532_6c8814ee31d0row3_col2\" class=\"data row3 col2\" >0.000000</td>\n",
       "                        <td id=\"T_535abd9a_f10f_11ed_8532_6c8814ee31d0row3_col3\" class=\"data row3 col3\" >0.000000</td>\n",
       "                        <td id=\"T_535abd9a_f10f_11ed_8532_6c8814ee31d0row3_col4\" class=\"data row3 col4\" >0.000000</td>\n",
       "                        <td id=\"T_535abd9a_f10f_11ed_8532_6c8814ee31d0row3_col5\" class=\"data row3 col5\" >0.000000</td>\n",
       "                        <td id=\"T_535abd9a_f10f_11ed_8532_6c8814ee31d0row3_col6\" class=\"data row3 col6\" >0.000000</td>\n",
       "                        <td id=\"T_535abd9a_f10f_11ed_8532_6c8814ee31d0row3_col7\" class=\"data row3 col7\" >0.000000</td>\n",
       "                        <td id=\"T_535abd9a_f10f_11ed_8532_6c8814ee31d0row3_col8\" class=\"data row3 col8\" >0.000000</td>\n",
       "                        <td id=\"T_535abd9a_f10f_11ed_8532_6c8814ee31d0row3_col9\" class=\"data row3 col9\" >0.000000</td>\n",
       "                        <td id=\"T_535abd9a_f10f_11ed_8532_6c8814ee31d0row3_col10\" class=\"data row3 col10\" >0.000000</td>\n",
       "                        <td id=\"T_535abd9a_f10f_11ed_8532_6c8814ee31d0row3_col11\" class=\"data row3 col11\" >0.000000</td>\n",
       "                        <td id=\"T_535abd9a_f10f_11ed_8532_6c8814ee31d0row3_col12\" class=\"data row3 col12\" >0.000000</td>\n",
       "                        <td id=\"T_535abd9a_f10f_11ed_8532_6c8814ee31d0row3_col13\" class=\"data row3 col13\" >0.000000</td>\n",
       "                        <td id=\"T_535abd9a_f10f_11ed_8532_6c8814ee31d0row3_col14\" class=\"data row3 col14\" >0.000000</td>\n",
       "                        <td id=\"T_535abd9a_f10f_11ed_8532_6c8814ee31d0row3_col15\" class=\"data row3 col15\" >0.000000</td>\n",
       "                        <td id=\"T_535abd9a_f10f_11ed_8532_6c8814ee31d0row3_col16\" class=\"data row3 col16\" >0.000000</td>\n",
       "                        <td id=\"T_535abd9a_f10f_11ed_8532_6c8814ee31d0row3_col17\" class=\"data row3 col17\" >0.000000</td>\n",
       "                        <td id=\"T_535abd9a_f10f_11ed_8532_6c8814ee31d0row3_col18\" class=\"data row3 col18\" >0.000000</td>\n",
       "                        <td id=\"T_535abd9a_f10f_11ed_8532_6c8814ee31d0row3_col19\" class=\"data row3 col19\" >0.000000</td>\n",
       "                        <td id=\"T_535abd9a_f10f_11ed_8532_6c8814ee31d0row3_col20\" class=\"data row3 col20\" >0.000000</td>\n",
       "                        <td id=\"T_535abd9a_f10f_11ed_8532_6c8814ee31d0row3_col21\" class=\"data row3 col21\" >0.000000</td>\n",
       "                        <td id=\"T_535abd9a_f10f_11ed_8532_6c8814ee31d0row3_col22\" class=\"data row3 col22\" >0.000000</td>\n",
       "                        <td id=\"T_535abd9a_f10f_11ed_8532_6c8814ee31d0row3_col23\" class=\"data row3 col23\" >0.000000</td>\n",
       "                        <td id=\"T_535abd9a_f10f_11ed_8532_6c8814ee31d0row3_col24\" class=\"data row3 col24\" >0.000000</td>\n",
       "                        <td id=\"T_535abd9a_f10f_11ed_8532_6c8814ee31d0row3_col25\" class=\"data row3 col25\" >0.000000</td>\n",
       "                        <td id=\"T_535abd9a_f10f_11ed_8532_6c8814ee31d0row3_col26\" class=\"data row3 col26\" >0.000000</td>\n",
       "                        <td id=\"T_535abd9a_f10f_11ed_8532_6c8814ee31d0row3_col27\" class=\"data row3 col27\" >0.000000</td>\n",
       "                        <td id=\"T_535abd9a_f10f_11ed_8532_6c8814ee31d0row3_col28\" class=\"data row3 col28\" >0.000000</td>\n",
       "                        <td id=\"T_535abd9a_f10f_11ed_8532_6c8814ee31d0row3_col29\" class=\"data row3 col29\" >0.000000</td>\n",
       "                        <td id=\"T_535abd9a_f10f_11ed_8532_6c8814ee31d0row3_col30\" class=\"data row3 col30\" >0.000000</td>\n",
       "                        <td id=\"T_535abd9a_f10f_11ed_8532_6c8814ee31d0row3_col31\" class=\"data row3 col31\" >0.000000</td>\n",
       "                        <td id=\"T_535abd9a_f10f_11ed_8532_6c8814ee31d0row3_col32\" class=\"data row3 col32\" >0.000000</td>\n",
       "                        <td id=\"T_535abd9a_f10f_11ed_8532_6c8814ee31d0row3_col33\" class=\"data row3 col33\" >0.000000</td>\n",
       "                        <td id=\"T_535abd9a_f10f_11ed_8532_6c8814ee31d0row3_col34\" class=\"data row3 col34\" >0.000000</td>\n",
       "                        <td id=\"T_535abd9a_f10f_11ed_8532_6c8814ee31d0row3_col35\" class=\"data row3 col35\" >0.000000</td>\n",
       "                        <td id=\"T_535abd9a_f10f_11ed_8532_6c8814ee31d0row3_col36\" class=\"data row3 col36\" >0.000000</td>\n",
       "                        <td id=\"T_535abd9a_f10f_11ed_8532_6c8814ee31d0row3_col37\" class=\"data row3 col37\" >0.000000</td>\n",
       "                        <td id=\"T_535abd9a_f10f_11ed_8532_6c8814ee31d0row3_col38\" class=\"data row3 col38\" >0.000000</td>\n",
       "            </tr>\n",
       "            <tr>\n",
       "                        <th id=\"T_535abd9a_f10f_11ed_8532_6c8814ee31d0level0_row4\" class=\"row_heading level0 row4\" >25%</th>\n",
       "                        <td id=\"T_535abd9a_f10f_11ed_8532_6c8814ee31d0row4_col0\" class=\"data row4 col0\" >0.000000</td>\n",
       "                        <td id=\"T_535abd9a_f10f_11ed_8532_6c8814ee31d0row4_col1\" class=\"data row4 col1\" >0.000000</td>\n",
       "                        <td id=\"T_535abd9a_f10f_11ed_8532_6c8814ee31d0row4_col2\" class=\"data row4 col2\" >0.000000</td>\n",
       "                        <td id=\"T_535abd9a_f10f_11ed_8532_6c8814ee31d0row4_col3\" class=\"data row4 col3\" >0.000000</td>\n",
       "                        <td id=\"T_535abd9a_f10f_11ed_8532_6c8814ee31d0row4_col4\" class=\"data row4 col4\" >0.000000</td>\n",
       "                        <td id=\"T_535abd9a_f10f_11ed_8532_6c8814ee31d0row4_col5\" class=\"data row4 col5\" >0.000000</td>\n",
       "                        <td id=\"T_535abd9a_f10f_11ed_8532_6c8814ee31d0row4_col6\" class=\"data row4 col6\" >0.000000</td>\n",
       "                        <td id=\"T_535abd9a_f10f_11ed_8532_6c8814ee31d0row4_col7\" class=\"data row4 col7\" >0.000000</td>\n",
       "                        <td id=\"T_535abd9a_f10f_11ed_8532_6c8814ee31d0row4_col8\" class=\"data row4 col8\" >0.000000</td>\n",
       "                        <td id=\"T_535abd9a_f10f_11ed_8532_6c8814ee31d0row4_col9\" class=\"data row4 col9\" >0.000000</td>\n",
       "                        <td id=\"T_535abd9a_f10f_11ed_8532_6c8814ee31d0row4_col10\" class=\"data row4 col10\" >0.000000</td>\n",
       "                        <td id=\"T_535abd9a_f10f_11ed_8532_6c8814ee31d0row4_col11\" class=\"data row4 col11\" >0.000000</td>\n",
       "                        <td id=\"T_535abd9a_f10f_11ed_8532_6c8814ee31d0row4_col12\" class=\"data row4 col12\" >0.000000</td>\n",
       "                        <td id=\"T_535abd9a_f10f_11ed_8532_6c8814ee31d0row4_col13\" class=\"data row4 col13\" >0.000000</td>\n",
       "                        <td id=\"T_535abd9a_f10f_11ed_8532_6c8814ee31d0row4_col14\" class=\"data row4 col14\" >0.000000</td>\n",
       "                        <td id=\"T_535abd9a_f10f_11ed_8532_6c8814ee31d0row4_col15\" class=\"data row4 col15\" >0.000000</td>\n",
       "                        <td id=\"T_535abd9a_f10f_11ed_8532_6c8814ee31d0row4_col16\" class=\"data row4 col16\" >0.000000</td>\n",
       "                        <td id=\"T_535abd9a_f10f_11ed_8532_6c8814ee31d0row4_col17\" class=\"data row4 col17\" >0.000000</td>\n",
       "                        <td id=\"T_535abd9a_f10f_11ed_8532_6c8814ee31d0row4_col18\" class=\"data row4 col18\" >0.000000</td>\n",
       "                        <td id=\"T_535abd9a_f10f_11ed_8532_6c8814ee31d0row4_col19\" class=\"data row4 col19\" >2.000000</td>\n",
       "                        <td id=\"T_535abd9a_f10f_11ed_8532_6c8814ee31d0row4_col20\" class=\"data row4 col20\" >2.000000</td>\n",
       "                        <td id=\"T_535abd9a_f10f_11ed_8532_6c8814ee31d0row4_col21\" class=\"data row4 col21\" >0.000000</td>\n",
       "                        <td id=\"T_535abd9a_f10f_11ed_8532_6c8814ee31d0row4_col22\" class=\"data row4 col22\" >0.000000</td>\n",
       "                        <td id=\"T_535abd9a_f10f_11ed_8532_6c8814ee31d0row4_col23\" class=\"data row4 col23\" >0.000000</td>\n",
       "                        <td id=\"T_535abd9a_f10f_11ed_8532_6c8814ee31d0row4_col24\" class=\"data row4 col24\" >0.000000</td>\n",
       "                        <td id=\"T_535abd9a_f10f_11ed_8532_6c8814ee31d0row4_col25\" class=\"data row4 col25\" >0.090000</td>\n",
       "                        <td id=\"T_535abd9a_f10f_11ed_8532_6c8814ee31d0row4_col26\" class=\"data row4 col26\" >0.000000</td>\n",
       "                        <td id=\"T_535abd9a_f10f_11ed_8532_6c8814ee31d0row4_col27\" class=\"data row4 col27\" >0.000000</td>\n",
       "                        <td id=\"T_535abd9a_f10f_11ed_8532_6c8814ee31d0row4_col28\" class=\"data row4 col28\" >82.000000</td>\n",
       "                        <td id=\"T_535abd9a_f10f_11ed_8532_6c8814ee31d0row4_col29\" class=\"data row4 col29\" >10.000000</td>\n",
       "                        <td id=\"T_535abd9a_f10f_11ed_8532_6c8814ee31d0row4_col30\" class=\"data row4 col30\" >0.050000</td>\n",
       "                        <td id=\"T_535abd9a_f10f_11ed_8532_6c8814ee31d0row4_col31\" class=\"data row4 col31\" >0.000000</td>\n",
       "                        <td id=\"T_535abd9a_f10f_11ed_8532_6c8814ee31d0row4_col32\" class=\"data row4 col32\" >0.000000</td>\n",
       "                        <td id=\"T_535abd9a_f10f_11ed_8532_6c8814ee31d0row4_col33\" class=\"data row4 col33\" >0.000000</td>\n",
       "                        <td id=\"T_535abd9a_f10f_11ed_8532_6c8814ee31d0row4_col34\" class=\"data row4 col34\" >0.000000</td>\n",
       "                        <td id=\"T_535abd9a_f10f_11ed_8532_6c8814ee31d0row4_col35\" class=\"data row4 col35\" >0.000000</td>\n",
       "                        <td id=\"T_535abd9a_f10f_11ed_8532_6c8814ee31d0row4_col36\" class=\"data row4 col36\" >0.000000</td>\n",
       "                        <td id=\"T_535abd9a_f10f_11ed_8532_6c8814ee31d0row4_col37\" class=\"data row4 col37\" >0.000000</td>\n",
       "                        <td id=\"T_535abd9a_f10f_11ed_8532_6c8814ee31d0row4_col38\" class=\"data row4 col38\" >18.000000</td>\n",
       "            </tr>\n",
       "            <tr>\n",
       "                        <th id=\"T_535abd9a_f10f_11ed_8532_6c8814ee31d0level0_row5\" class=\"row_heading level0 row5\" >50%</th>\n",
       "                        <td id=\"T_535abd9a_f10f_11ed_8532_6c8814ee31d0row5_col0\" class=\"data row5 col0\" >0.000000</td>\n",
       "                        <td id=\"T_535abd9a_f10f_11ed_8532_6c8814ee31d0row5_col1\" class=\"data row5 col1\" >44.000000</td>\n",
       "                        <td id=\"T_535abd9a_f10f_11ed_8532_6c8814ee31d0row5_col2\" class=\"data row5 col2\" >0.000000</td>\n",
       "                        <td id=\"T_535abd9a_f10f_11ed_8532_6c8814ee31d0row5_col3\" class=\"data row5 col3\" >0.000000</td>\n",
       "                        <td id=\"T_535abd9a_f10f_11ed_8532_6c8814ee31d0row5_col4\" class=\"data row5 col4\" >0.000000</td>\n",
       "                        <td id=\"T_535abd9a_f10f_11ed_8532_6c8814ee31d0row5_col5\" class=\"data row5 col5\" >0.000000</td>\n",
       "                        <td id=\"T_535abd9a_f10f_11ed_8532_6c8814ee31d0row5_col6\" class=\"data row5 col6\" >0.000000</td>\n",
       "                        <td id=\"T_535abd9a_f10f_11ed_8532_6c8814ee31d0row5_col7\" class=\"data row5 col7\" >0.000000</td>\n",
       "                        <td id=\"T_535abd9a_f10f_11ed_8532_6c8814ee31d0row5_col8\" class=\"data row5 col8\" >0.000000</td>\n",
       "                        <td id=\"T_535abd9a_f10f_11ed_8532_6c8814ee31d0row5_col9\" class=\"data row5 col9\" >0.000000</td>\n",
       "                        <td id=\"T_535abd9a_f10f_11ed_8532_6c8814ee31d0row5_col10\" class=\"data row5 col10\" >0.000000</td>\n",
       "                        <td id=\"T_535abd9a_f10f_11ed_8532_6c8814ee31d0row5_col11\" class=\"data row5 col11\" >0.000000</td>\n",
       "                        <td id=\"T_535abd9a_f10f_11ed_8532_6c8814ee31d0row5_col12\" class=\"data row5 col12\" >0.000000</td>\n",
       "                        <td id=\"T_535abd9a_f10f_11ed_8532_6c8814ee31d0row5_col13\" class=\"data row5 col13\" >0.000000</td>\n",
       "                        <td id=\"T_535abd9a_f10f_11ed_8532_6c8814ee31d0row5_col14\" class=\"data row5 col14\" >0.000000</td>\n",
       "                        <td id=\"T_535abd9a_f10f_11ed_8532_6c8814ee31d0row5_col15\" class=\"data row5 col15\" >0.000000</td>\n",
       "                        <td id=\"T_535abd9a_f10f_11ed_8532_6c8814ee31d0row5_col16\" class=\"data row5 col16\" >0.000000</td>\n",
       "                        <td id=\"T_535abd9a_f10f_11ed_8532_6c8814ee31d0row5_col17\" class=\"data row5 col17\" >0.000000</td>\n",
       "                        <td id=\"T_535abd9a_f10f_11ed_8532_6c8814ee31d0row5_col18\" class=\"data row5 col18\" >0.000000</td>\n",
       "                        <td id=\"T_535abd9a_f10f_11ed_8532_6c8814ee31d0row5_col19\" class=\"data row5 col19\" >14.000000</td>\n",
       "                        <td id=\"T_535abd9a_f10f_11ed_8532_6c8814ee31d0row5_col20\" class=\"data row5 col20\" >8.000000</td>\n",
       "                        <td id=\"T_535abd9a_f10f_11ed_8532_6c8814ee31d0row5_col21\" class=\"data row5 col21\" >0.000000</td>\n",
       "                        <td id=\"T_535abd9a_f10f_11ed_8532_6c8814ee31d0row5_col22\" class=\"data row5 col22\" >0.000000</td>\n",
       "                        <td id=\"T_535abd9a_f10f_11ed_8532_6c8814ee31d0row5_col23\" class=\"data row5 col23\" >0.000000</td>\n",
       "                        <td id=\"T_535abd9a_f10f_11ed_8532_6c8814ee31d0row5_col24\" class=\"data row5 col24\" >0.000000</td>\n",
       "                        <td id=\"T_535abd9a_f10f_11ed_8532_6c8814ee31d0row5_col25\" class=\"data row5 col25\" >1.000000</td>\n",
       "                        <td id=\"T_535abd9a_f10f_11ed_8532_6c8814ee31d0row5_col26\" class=\"data row5 col26\" >0.000000</td>\n",
       "                        <td id=\"T_535abd9a_f10f_11ed_8532_6c8814ee31d0row5_col27\" class=\"data row5 col27\" >0.000000</td>\n",
       "                        <td id=\"T_535abd9a_f10f_11ed_8532_6c8814ee31d0row5_col28\" class=\"data row5 col28\" >255.000000</td>\n",
       "                        <td id=\"T_535abd9a_f10f_11ed_8532_6c8814ee31d0row5_col29\" class=\"data row5 col29\" >63.000000</td>\n",
       "                        <td id=\"T_535abd9a_f10f_11ed_8532_6c8814ee31d0row5_col30\" class=\"data row5 col30\" >0.510000</td>\n",
       "                        <td id=\"T_535abd9a_f10f_11ed_8532_6c8814ee31d0row5_col31\" class=\"data row5 col31\" >0.020000</td>\n",
       "                        <td id=\"T_535abd9a_f10f_11ed_8532_6c8814ee31d0row5_col32\" class=\"data row5 col32\" >0.000000</td>\n",
       "                        <td id=\"T_535abd9a_f10f_11ed_8532_6c8814ee31d0row5_col33\" class=\"data row5 col33\" >0.000000</td>\n",
       "                        <td id=\"T_535abd9a_f10f_11ed_8532_6c8814ee31d0row5_col34\" class=\"data row5 col34\" >0.000000</td>\n",
       "                        <td id=\"T_535abd9a_f10f_11ed_8532_6c8814ee31d0row5_col35\" class=\"data row5 col35\" >0.000000</td>\n",
       "                        <td id=\"T_535abd9a_f10f_11ed_8532_6c8814ee31d0row5_col36\" class=\"data row5 col36\" >0.000000</td>\n",
       "                        <td id=\"T_535abd9a_f10f_11ed_8532_6c8814ee31d0row5_col37\" class=\"data row5 col37\" >0.000000</td>\n",
       "                        <td id=\"T_535abd9a_f10f_11ed_8532_6c8814ee31d0row5_col38\" class=\"data row5 col38\" >20.000000</td>\n",
       "            </tr>\n",
       "            <tr>\n",
       "                        <th id=\"T_535abd9a_f10f_11ed_8532_6c8814ee31d0level0_row6\" class=\"row_heading level0 row6\" >75%</th>\n",
       "                        <td id=\"T_535abd9a_f10f_11ed_8532_6c8814ee31d0row6_col0\" class=\"data row6 col0\" >0.000000</td>\n",
       "                        <td id=\"T_535abd9a_f10f_11ed_8532_6c8814ee31d0row6_col1\" class=\"data row6 col1\" >276.000000</td>\n",
       "                        <td id=\"T_535abd9a_f10f_11ed_8532_6c8814ee31d0row6_col2\" class=\"data row6 col2\" >516.000000</td>\n",
       "                        <td id=\"T_535abd9a_f10f_11ed_8532_6c8814ee31d0row6_col3\" class=\"data row6 col3\" >0.000000</td>\n",
       "                        <td id=\"T_535abd9a_f10f_11ed_8532_6c8814ee31d0row6_col4\" class=\"data row6 col4\" >0.000000</td>\n",
       "                        <td id=\"T_535abd9a_f10f_11ed_8532_6c8814ee31d0row6_col5\" class=\"data row6 col5\" >0.000000</td>\n",
       "                        <td id=\"T_535abd9a_f10f_11ed_8532_6c8814ee31d0row6_col6\" class=\"data row6 col6\" >0.000000</td>\n",
       "                        <td id=\"T_535abd9a_f10f_11ed_8532_6c8814ee31d0row6_col7\" class=\"data row6 col7\" >0.000000</td>\n",
       "                        <td id=\"T_535abd9a_f10f_11ed_8532_6c8814ee31d0row6_col8\" class=\"data row6 col8\" >1.000000</td>\n",
       "                        <td id=\"T_535abd9a_f10f_11ed_8532_6c8814ee31d0row6_col9\" class=\"data row6 col9\" >0.000000</td>\n",
       "                        <td id=\"T_535abd9a_f10f_11ed_8532_6c8814ee31d0row6_col10\" class=\"data row6 col10\" >0.000000</td>\n",
       "                        <td id=\"T_535abd9a_f10f_11ed_8532_6c8814ee31d0row6_col11\" class=\"data row6 col11\" >0.000000</td>\n",
       "                        <td id=\"T_535abd9a_f10f_11ed_8532_6c8814ee31d0row6_col12\" class=\"data row6 col12\" >0.000000</td>\n",
       "                        <td id=\"T_535abd9a_f10f_11ed_8532_6c8814ee31d0row6_col13\" class=\"data row6 col13\" >0.000000</td>\n",
       "                        <td id=\"T_535abd9a_f10f_11ed_8532_6c8814ee31d0row6_col14\" class=\"data row6 col14\" >0.000000</td>\n",
       "                        <td id=\"T_535abd9a_f10f_11ed_8532_6c8814ee31d0row6_col15\" class=\"data row6 col15\" >0.000000</td>\n",
       "                        <td id=\"T_535abd9a_f10f_11ed_8532_6c8814ee31d0row6_col16\" class=\"data row6 col16\" >0.000000</td>\n",
       "                        <td id=\"T_535abd9a_f10f_11ed_8532_6c8814ee31d0row6_col17\" class=\"data row6 col17\" >0.000000</td>\n",
       "                        <td id=\"T_535abd9a_f10f_11ed_8532_6c8814ee31d0row6_col18\" class=\"data row6 col18\" >0.000000</td>\n",
       "                        <td id=\"T_535abd9a_f10f_11ed_8532_6c8814ee31d0row6_col19\" class=\"data row6 col19\" >143.000000</td>\n",
       "                        <td id=\"T_535abd9a_f10f_11ed_8532_6c8814ee31d0row6_col20\" class=\"data row6 col20\" >18.000000</td>\n",
       "                        <td id=\"T_535abd9a_f10f_11ed_8532_6c8814ee31d0row6_col21\" class=\"data row6 col21\" >1.000000</td>\n",
       "                        <td id=\"T_535abd9a_f10f_11ed_8532_6c8814ee31d0row6_col22\" class=\"data row6 col22\" >1.000000</td>\n",
       "                        <td id=\"T_535abd9a_f10f_11ed_8532_6c8814ee31d0row6_col23\" class=\"data row6 col23\" >0.000000</td>\n",
       "                        <td id=\"T_535abd9a_f10f_11ed_8532_6c8814ee31d0row6_col24\" class=\"data row6 col24\" >0.000000</td>\n",
       "                        <td id=\"T_535abd9a_f10f_11ed_8532_6c8814ee31d0row6_col25\" class=\"data row6 col25\" >1.000000</td>\n",
       "                        <td id=\"T_535abd9a_f10f_11ed_8532_6c8814ee31d0row6_col26\" class=\"data row6 col26\" >0.060000</td>\n",
       "                        <td id=\"T_535abd9a_f10f_11ed_8532_6c8814ee31d0row6_col27\" class=\"data row6 col27\" >0.000000</td>\n",
       "                        <td id=\"T_535abd9a_f10f_11ed_8532_6c8814ee31d0row6_col28\" class=\"data row6 col28\" >255.000000</td>\n",
       "                        <td id=\"T_535abd9a_f10f_11ed_8532_6c8814ee31d0row6_col29\" class=\"data row6 col29\" >255.000000</td>\n",
       "                        <td id=\"T_535abd9a_f10f_11ed_8532_6c8814ee31d0row6_col30\" class=\"data row6 col30\" >1.000000</td>\n",
       "                        <td id=\"T_535abd9a_f10f_11ed_8532_6c8814ee31d0row6_col31\" class=\"data row6 col31\" >0.070000</td>\n",
       "                        <td id=\"T_535abd9a_f10f_11ed_8532_6c8814ee31d0row6_col32\" class=\"data row6 col32\" >0.060000</td>\n",
       "                        <td id=\"T_535abd9a_f10f_11ed_8532_6c8814ee31d0row6_col33\" class=\"data row6 col33\" >0.020000</td>\n",
       "                        <td id=\"T_535abd9a_f10f_11ed_8532_6c8814ee31d0row6_col34\" class=\"data row6 col34\" >1.000000</td>\n",
       "                        <td id=\"T_535abd9a_f10f_11ed_8532_6c8814ee31d0row6_col35\" class=\"data row6 col35\" >1.000000</td>\n",
       "                        <td id=\"T_535abd9a_f10f_11ed_8532_6c8814ee31d0row6_col36\" class=\"data row6 col36\" >0.000000</td>\n",
       "                        <td id=\"T_535abd9a_f10f_11ed_8532_6c8814ee31d0row6_col37\" class=\"data row6 col37\" >0.000000</td>\n",
       "                        <td id=\"T_535abd9a_f10f_11ed_8532_6c8814ee31d0row6_col38\" class=\"data row6 col38\" >21.000000</td>\n",
       "            </tr>\n",
       "            <tr>\n",
       "                        <th id=\"T_535abd9a_f10f_11ed_8532_6c8814ee31d0level0_row7\" class=\"row_heading level0 row7\" >max</th>\n",
       "                        <td id=\"T_535abd9a_f10f_11ed_8532_6c8814ee31d0row7_col0\" class=\"data row7 col0\" >42908.000000</td>\n",
       "                        <td id=\"T_535abd9a_f10f_11ed_8532_6c8814ee31d0row7_col1\" class=\"data row7 col1\" >1379963888.000000</td>\n",
       "                        <td id=\"T_535abd9a_f10f_11ed_8532_6c8814ee31d0row7_col2\" class=\"data row7 col2\" >1309937401.000000</td>\n",
       "                        <td id=\"T_535abd9a_f10f_11ed_8532_6c8814ee31d0row7_col3\" class=\"data row7 col3\" >1.000000</td>\n",
       "                        <td id=\"T_535abd9a_f10f_11ed_8532_6c8814ee31d0row7_col4\" class=\"data row7 col4\" >3.000000</td>\n",
       "                        <td id=\"T_535abd9a_f10f_11ed_8532_6c8814ee31d0row7_col5\" class=\"data row7 col5\" >3.000000</td>\n",
       "                        <td id=\"T_535abd9a_f10f_11ed_8532_6c8814ee31d0row7_col6\" class=\"data row7 col6\" >77.000000</td>\n",
       "                        <td id=\"T_535abd9a_f10f_11ed_8532_6c8814ee31d0row7_col7\" class=\"data row7 col7\" >5.000000</td>\n",
       "                        <td id=\"T_535abd9a_f10f_11ed_8532_6c8814ee31d0row7_col8\" class=\"data row7 col8\" >1.000000</td>\n",
       "                        <td id=\"T_535abd9a_f10f_11ed_8532_6c8814ee31d0row7_col9\" class=\"data row7 col9\" >7479.000000</td>\n",
       "                        <td id=\"T_535abd9a_f10f_11ed_8532_6c8814ee31d0row7_col10\" class=\"data row7 col10\" >1.000000</td>\n",
       "                        <td id=\"T_535abd9a_f10f_11ed_8532_6c8814ee31d0row7_col11\" class=\"data row7 col11\" >2.000000</td>\n",
       "                        <td id=\"T_535abd9a_f10f_11ed_8532_6c8814ee31d0row7_col12\" class=\"data row7 col12\" >7468.000000</td>\n",
       "                        <td id=\"T_535abd9a_f10f_11ed_8532_6c8814ee31d0row7_col13\" class=\"data row7 col13\" >43.000000</td>\n",
       "                        <td id=\"T_535abd9a_f10f_11ed_8532_6c8814ee31d0row7_col14\" class=\"data row7 col14\" >2.000000</td>\n",
       "                        <td id=\"T_535abd9a_f10f_11ed_8532_6c8814ee31d0row7_col15\" class=\"data row7 col15\" >9.000000</td>\n",
       "                        <td id=\"T_535abd9a_f10f_11ed_8532_6c8814ee31d0row7_col16\" class=\"data row7 col16\" >0.000000</td>\n",
       "                        <td id=\"T_535abd9a_f10f_11ed_8532_6c8814ee31d0row7_col17\" class=\"data row7 col17\" >1.000000</td>\n",
       "                        <td id=\"T_535abd9a_f10f_11ed_8532_6c8814ee31d0row7_col18\" class=\"data row7 col18\" >1.000000</td>\n",
       "                        <td id=\"T_535abd9a_f10f_11ed_8532_6c8814ee31d0row7_col19\" class=\"data row7 col19\" >511.000000</td>\n",
       "                        <td id=\"T_535abd9a_f10f_11ed_8532_6c8814ee31d0row7_col20\" class=\"data row7 col20\" >511.000000</td>\n",
       "                        <td id=\"T_535abd9a_f10f_11ed_8532_6c8814ee31d0row7_col21\" class=\"data row7 col21\" >1.000000</td>\n",
       "                        <td id=\"T_535abd9a_f10f_11ed_8532_6c8814ee31d0row7_col22\" class=\"data row7 col22\" >1.000000</td>\n",
       "                        <td id=\"T_535abd9a_f10f_11ed_8532_6c8814ee31d0row7_col23\" class=\"data row7 col23\" >1.000000</td>\n",
       "                        <td id=\"T_535abd9a_f10f_11ed_8532_6c8814ee31d0row7_col24\" class=\"data row7 col24\" >1.000000</td>\n",
       "                        <td id=\"T_535abd9a_f10f_11ed_8532_6c8814ee31d0row7_col25\" class=\"data row7 col25\" >1.000000</td>\n",
       "                        <td id=\"T_535abd9a_f10f_11ed_8532_6c8814ee31d0row7_col26\" class=\"data row7 col26\" >1.000000</td>\n",
       "                        <td id=\"T_535abd9a_f10f_11ed_8532_6c8814ee31d0row7_col27\" class=\"data row7 col27\" >1.000000</td>\n",
       "                        <td id=\"T_535abd9a_f10f_11ed_8532_6c8814ee31d0row7_col28\" class=\"data row7 col28\" >255.000000</td>\n",
       "                        <td id=\"T_535abd9a_f10f_11ed_8532_6c8814ee31d0row7_col29\" class=\"data row7 col29\" >255.000000</td>\n",
       "                        <td id=\"T_535abd9a_f10f_11ed_8532_6c8814ee31d0row7_col30\" class=\"data row7 col30\" >1.000000</td>\n",
       "                        <td id=\"T_535abd9a_f10f_11ed_8532_6c8814ee31d0row7_col31\" class=\"data row7 col31\" >1.000000</td>\n",
       "                        <td id=\"T_535abd9a_f10f_11ed_8532_6c8814ee31d0row7_col32\" class=\"data row7 col32\" >1.000000</td>\n",
       "                        <td id=\"T_535abd9a_f10f_11ed_8532_6c8814ee31d0row7_col33\" class=\"data row7 col33\" >1.000000</td>\n",
       "                        <td id=\"T_535abd9a_f10f_11ed_8532_6c8814ee31d0row7_col34\" class=\"data row7 col34\" >1.000000</td>\n",
       "                        <td id=\"T_535abd9a_f10f_11ed_8532_6c8814ee31d0row7_col35\" class=\"data row7 col35\" >1.000000</td>\n",
       "                        <td id=\"T_535abd9a_f10f_11ed_8532_6c8814ee31d0row7_col36\" class=\"data row7 col36\" >1.000000</td>\n",
       "                        <td id=\"T_535abd9a_f10f_11ed_8532_6c8814ee31d0row7_col37\" class=\"data row7 col37\" >1.000000</td>\n",
       "                        <td id=\"T_535abd9a_f10f_11ed_8532_6c8814ee31d0row7_col38\" class=\"data row7 col38\" >21.000000</td>\n",
       "            </tr>\n",
       "    </tbody></table>"
      ],
      "text/plain": [
       "<pandas.io.formats.style.Styler at 0x7fa7463254e0>"
      ]
     },
     "execution_count": 8,
     "metadata": {},
     "output_type": "execute_result"
    }
   ],
   "source": [
    "data_train.describe().style.background_gradient(cmap='Blues').set_properties(**{'font-family':'Segoe UI'})"
   ]
  },
  {
   "cell_type": "code",
   "execution_count": 9,
   "id": "7949ca35",
   "metadata": {},
   "outputs": [],
   "source": [
    "data_train.loc[data_train['outcome'] == \"normal\", \"outcome\"] = 'normal'\n",
    "data_train.loc[data_train['outcome'] != 'normal', \"outcome\"] = 'attack'\n",
    "\n",
    "data_test.loc[data_test['outcome'] == \"normal\", \"outcome\"] = 'normal'\n",
    "data_test.loc[data_test['outcome'] != 'normal', \"outcome\"] = 'attack'"
   ]
  },
  {
   "cell_type": "code",
   "execution_count": 10,
   "id": "5e807376",
   "metadata": {},
   "outputs": [],
   "source": [
    "def pie_plot(df, cols_list, rows, cols):\n",
    "    fig, axes = plt.subplots(rows, cols)\n",
    "    for ax, col in zip(axes.ravel(), cols_list):\n",
    "        df[col].value_counts().plot(ax=ax, kind='pie', figsize=(15, 15), fontsize=10, autopct='%1.0f%%')\n",
    "        ax.set_title(str(col), fontsize = 12)\n",
    "    plt.show()"
   ]
  },
  {
   "cell_type": "code",
   "execution_count": 11,
   "id": "383c1e98",
   "metadata": {},
   "outputs": [
    {
     "data": {
      "image/png": "[encoded data removed]",
      "text/plain": [
       "<Figure size 1080x1080 with 2 Axes>"
      ]
     },
     "metadata": {},
     "output_type": "display_data"
    }
   ],
   "source": [
    "pie_plot(data_train, ['protocol_type', 'outcome'], 1, 2)"
   ]
  },
  {
   "cell_type": "markdown",
   "id": "734c90dd",
   "metadata": {},
   "source": [
    "### Preprocessing The Dataset"
   ]
  },
  {
   "cell_type": "code",
   "execution_count": 12,
   "id": "1c9fe653",
   "metadata": {},
   "outputs": [],
   "source": [
    "def Scaling(df_num, cols):\n",
    "    std_scaler = RobustScaler()\n",
    "    std_scaler_temp = std_scaler.fit_transform(df_num)\n",
    "    std_df = pd.DataFrame(std_scaler_temp, columns =cols)\n",
    "    return std_df"
   ]
  },
  {
   "cell_type": "code",
   "execution_count": 13,
   "id": "329812ed",
   "metadata": {},
   "outputs": [],
   "source": [
    "cat_cols = ['is_host_login','protocol_type','service','flag','land', 'logged_in','is_guest_login', 'level', 'outcome']\n",
    "def preprocess(dataframe):\n",
    "    df_num = dataframe.drop(cat_cols, axis=1)\n",
    "    num_cols = df_num.columns\n",
    "    scaled_df = Scaling(df_num, num_cols)\n",
    "    \n",
    "    dataframe.drop(labels=num_cols, axis=\"columns\", inplace=True)\n",
    "    dataframe[num_cols] = scaled_df[num_cols]\n",
    "    \n",
    "    dataframe.loc[dataframe['outcome'] == \"normal\", \"outcome\"] = 0\n",
    "    dataframe.loc[dataframe['outcome'] != 0, \"outcome\"] = 1\n",
    "    \n",
    "    dataframe = pd.get_dummies(dataframe, columns = ['protocol_type', 'service', 'flag'])\n",
    "    return dataframe\n",
    "\n"
   ]
  },
  {
   "cell_type": "code",
   "execution_count": 14,
   "id": "5a0a9530",
   "metadata": {},
   "outputs": [],
   "source": [
    "scaled_train = preprocess(data_train)"
   ]
  },
  {
   "cell_type": "markdown",
   "id": "fe946844",
   "metadata": {},
   "source": [
    "### Dataset Split (Generating Training and Validation Datasets)"
   ]
  },
  {
   "cell_type": "code",
   "execution_count": 15,
   "id": "be610ebf",
   "metadata": {},
   "outputs": [],
   "source": [
    "x = scaled_train.drop(['outcome', 'level'] , axis = 1)\n",
    "y = scaled_train['outcome']\n",
    "y_reg = scaled_train['level']\n",
    "y = y.astype('int')\n",
    "\n",
    "x_train, x_test, y_train, y_test = train_test_split(x, y, shuffle=True, test_size=0.2, random_state=42)\n",
    "x_train_reg, x_test_reg, y_train_reg, y_test_reg = train_test_split(x, y_reg, shuffle=True, test_size=0.2, random_state=42)"
   ]
  },
  {
   "cell_type": "code",
   "execution_count": 16,
   "id": "145492e2",
   "metadata": {
    "scrolled": true
   },
   "outputs": [
    {
     "data": {
      "text/plain": [
       "(100777, 122)"
      ]
     },
     "execution_count": 16,
     "metadata": {},
     "output_type": "execute_result"
    }
   ],
   "source": [
    "x_train.shape"
   ]
  },
  {
   "cell_type": "code",
   "execution_count": 17,
   "id": "cf9d7ae4",
   "metadata": {},
   "outputs": [
    {
     "data": {
      "text/plain": [
       "(100777,)"
      ]
     },
     "execution_count": 17,
     "metadata": {},
     "output_type": "execute_result"
    }
   ],
   "source": [
    "y_train.shape"
   ]
  },
  {
   "cell_type": "code",
   "execution_count": 18,
   "id": "de8e8284",
   "metadata": {},
   "outputs": [
    {
     "data": {
      "text/plain": [
       "(25195, 122)"
      ]
     },
     "execution_count": 18,
     "metadata": {},
     "output_type": "execute_result"
    }
   ],
   "source": [
    "x_test.shape"
   ]
  },
  {
   "cell_type": "code",
   "execution_count": 19,
   "id": "21811119",
   "metadata": {},
   "outputs": [
    {
     "data": {
      "text/plain": [
       "(25195,)"
      ]
     },
     "execution_count": 19,
     "metadata": {},
     "output_type": "execute_result"
    }
   ],
   "source": [
    "y_test.shape"
   ]
  },
  {
   "cell_type": "code",
   "execution_count": null,
   "id": "4802f032",
   "metadata": {},
   "outputs": [],
   "source": []
  },
  {
   "cell_type": "code",
   "execution_count": null,
   "id": "c32ef4e0",
   "metadata": {},
   "outputs": [],
   "source": []
  },
  {
   "cell_type": "code",
   "execution_count": null,
   "id": "fe9d9d6e",
   "metadata": {},
   "outputs": [],
   "source": []
  },
  {
   "cell_type": "code",
   "execution_count": null,
   "id": "7dd59ff5",
   "metadata": {},
   "outputs": [],
   "source": []
  },
  {
   "cell_type": "code",
   "execution_count": null,
   "id": "2e3cd1e4",
   "metadata": {},
   "outputs": [],
   "source": []
  },
  {
   "cell_type": "code",
   "execution_count": null,
   "id": "ee74ddb5",
   "metadata": {},
   "outputs": [],
   "source": []
  },
  {
   "cell_type": "code",
   "execution_count": null,
   "id": "ca6bec6e",
   "metadata": {},
   "outputs": [],
   "source": []
  },
  {
   "cell_type": "code",
   "execution_count": null,
   "id": "2082536e",
   "metadata": {},
   "outputs": [],
   "source": []
  },
  {
   "cell_type": "markdown",
   "id": "4cbe9484",
   "metadata": {},
   "source": [
    "https://www.kaggle.com/code/essammohamed4320/convex-neural-networks-proof-on-nslkdd#Modeling"
   ]
  }
 ],
 "metadata": {
  "kernelspec": {
   "display_name": "Python 3",
   "language": "python",
   "name": "python3"
  },
  "language_info": {
   "codemirror_mode": {
    "name": "ipython",
    "version": 3
   },
   "file_extension": ".py",
   "mimetype": "text/x-python",
   "name": "python",
   "nbconvert_exporter": "python",
   "pygments_lexer": "ipython3",
   "version": "3.6.9"
  }
 },
 "nbformat": 4,
 "nbformat_minor": 5
}
