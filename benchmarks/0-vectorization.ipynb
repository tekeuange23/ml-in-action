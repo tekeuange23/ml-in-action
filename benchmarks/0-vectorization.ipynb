{
 "cells": [
  {
   "cell_type": "code",
   "execution_count": 8,
   "metadata": {},
   "outputs": [],
   "source": [
    "import numpy as np\n",
    "import timeit"
   ]
  },
  {
   "cell_type": "code",
   "execution_count": 9,
   "metadata": {},
   "outputs": [
    {
     "name": "stdout",
     "output_type": "stream",
     "text": [
      "3.5696321919967886\n",
      "1.3342714559985325\n"
     ]
    }
   ],
   "source": [
    "''' f(x) = wx + b '''\n",
    "x = np.array([1, 0, .5, 2, 1])\n",
    "w = np.array([.1 , .2, 1, .2, .3])\n",
    "\n",
    "b = 3\n",
    "\n",
    "# for loop  \n",
    "def loop(w=w, x=x, b=b):\n",
    "  f = 0\n",
    "  for i in range(5):\n",
    "      f = f + x[i] * w[i]\n",
    "  return f + b\n",
    "\n",
    "# dot\n",
    "def dot(w=w, x=x, b=b):\n",
    "  return w.dot(x) + b\n",
    "\n",
    "print(timeit.timeit(\"loop()\", globals=locals()))\n",
    "print(timeit.timeit(\"dot()\", globals=locals()))\n"
   ]
  },
  {
   "cell_type": "code",
   "execution_count": null,
   "metadata": {},
   "outputs": [],
   "source": []
  }
 ],
 "metadata": {
  "kernelspec": {
   "display_name": "conda-env",
   "language": "python",
   "name": "python3"
  },
  "language_info": {
   "codemirror_mode": {
    "name": "ipython",
    "version": 3
   },
   "file_extension": ".py",
   "mimetype": "text/x-python",
   "name": "python",
   "nbconvert_exporter": "python",
   "pygments_lexer": "ipython3",
   "version": "3.9.12"
  },
  "orig_nbformat": 4
 },
 "nbformat": 4,
 "nbformat_minor": 2
}
