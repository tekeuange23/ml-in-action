{
 "cells": [
  {
   "cell_type": "markdown",
   "metadata": {},
   "source": [
    "## IO"
   ]
  },
  {
   "cell_type": "code",
   "execution_count": 1,
   "metadata": {},
   "outputs": [
    {
     "data": {
      "text/plain": [
       "3"
      ]
     },
     "execution_count": 1,
     "metadata": {},
     "output_type": "execute_result"
    }
   ],
   "source": [
    "a = int(input(\"Enter a: \"))\n",
    "a"
   ]
  },
  {
   "cell_type": "code",
   "execution_count": 2,
   "metadata": {},
   "outputs": [
    {
     "data": {
      "text/plain": [
       "3"
      ]
     },
     "execution_count": 2,
     "metadata": {},
     "output_type": "execute_result"
    }
   ],
   "source": [
    "def select_option():\n",
    "    str = 0\n",
    "    while str < 1 or str > 5:\n",
    "        str = input(\"Select an option (1-5): \")\n",
    "        str = int(str) if str.isdigit() else 0\n",
    "        \n",
    "    return str\n",
    "\n",
    "select_option()"
   ]
  },
  {
   "cell_type": "markdown",
   "metadata": {},
   "source": [
    "## OOP"
   ]
  },
  {
   "cell_type": "markdown",
   "metadata": {},
   "source": [
    "### Heritage"
   ]
  },
  {
   "cell_type": "code",
   "execution_count": 3,
   "metadata": {},
   "outputs": [],
   "source": [
    "class Animal():\n",
    "    def __init__(self, name) -> None:\n",
    "        self.name = name\n",
    "    \n",
    "    def whoami(self) -> None:\n",
    "        print('I am an Animal.')"
   ]
  },
  {
   "cell_type": "code",
   "execution_count": 4,
   "metadata": {},
   "outputs": [],
   "source": [
    "class Pet(Animal):\n",
    "    def __init__(self, name) -> None:\n",
    "        Animal.__init__(self, name)\n",
    "    \n",
    "    def speak(self) -> None:\n",
    "        raise NotImplementedError('Subclass must implement this abstract method')\n"
   ]
  },
  {
   "cell_type": "code",
   "execution_count": 5,
   "metadata": {},
   "outputs": [],
   "source": [
    "class Dog(Pet):\n",
    "    cmpt = 0\n",
    "    \n",
    "    def __init__(self, name, height, breed='Lab', spots=False) -> None:\n",
    "        Pet.__init__(self, name)\n",
    "        self.height = height\n",
    "        self.breed = breed\n",
    "        self.spots = spots\n",
    "        Dog.cmpt = Dog.cmpt + 1\n",
    "        self.id = Dog.cmpt\n",
    "    \n",
    "    def __str__(self) -> str:\n",
    "        return f'Dog: (\\'name\\', {self.name}), (\\'height\\', {self.height}), (\\'breed\\', {self.breed})'\n",
    "    \n",
    "    def __len__(self) -> int:\n",
    "        return int(self.height)\n",
    "   \n",
    "    def __del__(self) -> None:\n",
    "        Dog.cmpt = Dog.cmpt - 1\n",
    "        \n",
    "    def bark(self) -> None:\n",
    "        print(f'WOOF! My name is {self.name}, I am a {self.breed}. (id={self.id})')\n",
    "\n",
    "    ''' @implements Pet'''\n",
    "    def speak(self) -> None:\n",
    "        print(f'{self.name} says woof!')\n"
   ]
  },
  {
   "cell_type": "code",
   "execution_count": 6,
   "metadata": {},
   "outputs": [
    {
     "name": "stdout",
     "output_type": "stream",
     "text": [
      "I am an Animal.\n",
      "WOOF! My name is Leo, I am a Huskie. (id=1)\n"
     ]
    }
   ],
   "source": [
    "dog = Dog(name='Leo', height=1.2, breed='Huskie')\n",
    "dog.whoami()\n",
    "dog.bark()"
   ]
  },
  {
   "cell_type": "code",
   "execution_count": 7,
   "metadata": {},
   "outputs": [
    {
     "name": "stdout",
     "output_type": "stream",
     "text": [
      "WOOF! My name is Frankie, I am a Lab. (id=2)\n"
     ]
    }
   ],
   "source": [
    "dog2 = Dog(name='Frankie', height=.3)\n",
    "dog2.bark()"
   ]
  },
  {
   "cell_type": "markdown",
   "metadata": {},
   "source": [
    "### Polymorphism"
   ]
  },
  {
   "cell_type": "code",
   "execution_count": 8,
   "metadata": {},
   "outputs": [],
   "source": [
    "class Cat(Pet):    \n",
    "    def __init__(self, name) -> None:\n",
    "        Pet.__init__(self, name)    \n",
    "            \n",
    "    def __str__(self) -> str:\n",
    "        return f'Cat: (\\'name\\', {self.name})'\n",
    "\n",
    "    ''' @implements Pet'''\n",
    "    def speak(self) -> None:\n",
    "        print(f'{self.name} says miaw!')\n"
   ]
  },
  {
   "cell_type": "code",
   "execution_count": 9,
   "metadata": {},
   "outputs": [
    {
     "name": "stdout",
     "output_type": "stream",
     "text": [
      "Leo says woof!\n"
     ]
    }
   ],
   "source": [
    "dog.speak()"
   ]
  },
  {
   "cell_type": "code",
   "execution_count": 10,
   "metadata": {},
   "outputs": [
    {
     "name": "stdout",
     "output_type": "stream",
     "text": [
      "Minouh says miaw!\n"
     ]
    }
   ],
   "source": [
    "cat = Cat(name='Minouh')\n",
    "cat.speak()\n"
   ]
  },
  {
   "cell_type": "markdown",
   "metadata": {},
   "source": [
    "### special methods"
   ]
  },
  {
   "cell_type": "code",
   "execution_count": 11,
   "metadata": {},
   "outputs": [
    {
     "name": "stdout",
     "output_type": "stream",
     "text": [
      "Cat: ('name', Minouh)\n",
      "Dog: ('name', Leo), ('height', 1.2), ('breed', Huskie)\n",
      "Dog: ('name', Leo), ('height', 1.2), ('breed', Huskie) | height: 1 \n",
      "2\n",
      "1\n"
     ]
    }
   ],
   "source": [
    "# str + len\n",
    "print(cat)\n",
    "print(dog)\n",
    "print(str(dog) + f' | height: {len(dog)} ')\n",
    "\n",
    "# del\n",
    "print(Dog.cmpt)\n",
    "del dog2\n",
    "print(Dog.cmpt)"
   ]
  }
 ],
 "metadata": {
  "kernelspec": {
   "display_name": "cuda-env",
   "language": "python",
   "name": "python3"
  },
  "language_info": {
   "codemirror_mode": {
    "name": "ipython",
    "version": 3
   },
   "file_extension": ".py",
   "mimetype": "text/x-python",
   "name": "python",
   "nbconvert_exporter": "python",
   "pygments_lexer": "ipython3",
   "version": "3.11.5"
  }
 },
 "nbformat": 4,
 "nbformat_minor": 2
}
