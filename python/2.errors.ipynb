{
 "cells": [
  {
   "cell_type": "markdown",
   "metadata": {},
   "source": [
    "## multi exception handling"
   ]
  },
  {
   "cell_type": "code",
   "execution_count": null,
   "metadata": {},
   "outputs": [],
   "source": [
    "from io import UnsupportedOperation\n",
    "\n",
    "\n",
    "filename = 'assets/rootfile.txt'\n",
    "\n",
    "try:\n",
    "    f = open(file=filename, mode='w')\n",
    "    # f = open(file=filename, mode='r')\n",
    "except FileNotFoundError:\n",
    "    print('The file  doesn\\'t exist!')\n",
    "except PermissionError:\n",
    "    print('Operation not permitted!')\n",
    "except:\n",
    "    print('Smthg wrong occured, retry later!')\n",
    "else:\n",
    "    try:\n",
    "        f.write('anget')\n",
    "    except UnsupportedOperation:\n",
    "        print('The operation is invalid.')\n",
    "finally:\n",
    "    print('I always run!')\n",
    "    f.close()"
   ]
  },
  {
   "cell_type": "markdown",
   "metadata": {},
   "source": [
    "## infinite input"
   ]
  },
  {
   "cell_type": "code",
   "execution_count": 1,
   "metadata": {},
   "outputs": [
    {
     "name": "stdout",
     "output_type": "stream",
     "text": [
      "10\n"
     ]
    }
   ],
   "source": [
    "# answer = 0\n",
    "\n",
    "while True:\n",
    "    try:\n",
    "        answer = int(input('Enter an integer: '))\n",
    "    except:\n",
    "        continue\n",
    "    else:\n",
    "        print(answer)\n",
    "        break\n",
    "    finally:\n",
    "        pass"
   ]
  }
 ],
 "metadata": {
  "kernelspec": {
   "display_name": "cuda-env",
   "language": "python",
   "name": "python3"
  },
  "language_info": {
   "codemirror_mode": {
    "name": "ipython",
    "version": 3
   },
   "file_extension": ".py",
   "mimetype": "text/x-python",
   "name": "python",
   "nbconvert_exporter": "python",
   "pygments_lexer": "ipython3",
   "version": "3.11.5"
  }
 },
 "nbformat": 4,
 "nbformat_minor": 2
}
