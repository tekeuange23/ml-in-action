{
 "cells": [
  {
   "cell_type": "markdown",
   "metadata": {},
   "source": [
    "## IO"
   ]
  },
  {
   "cell_type": "code",
   "execution_count": 12,
   "metadata": {},
   "outputs": [
    {
     "data": {
      "text/plain": [
       "10"
      ]
     },
     "execution_count": 12,
     "metadata": {},
     "output_type": "execute_result"
    }
   ],
   "source": [
    "a = int(input(\"Enter a: \"))\n",
    "a"
   ]
  },
  {
   "cell_type": "code",
   "execution_count": 17,
   "metadata": {},
   "outputs": [
    {
     "data": {
      "text/plain": [
       "3"
      ]
     },
     "execution_count": 17,
     "metadata": {},
     "output_type": "execute_result"
    }
   ],
   "source": [
    "def select_option():\n",
    "    str = 0\n",
    "    while str < 1 or str > 5:\n",
    "        str = input(\"Select an option (1-5): \")\n",
    "        str = int(str) if str.isdigit() else 0\n",
    "        \n",
    "    return str\n",
    "\n",
    "select_option()"
   ]
  },
  {
   "cell_type": "markdown",
   "metadata": {},
   "source": [
    "## OOP"
   ]
  },
  {
   "cell_type": "markdown",
   "metadata": {},
   "source": [
    "### heritage"
   ]
  },
  {
   "cell_type": "code",
   "execution_count": 239,
   "metadata": {},
   "outputs": [],
   "source": [
    "class Animal():\n",
    "    def __init__(self, name) -> None:\n",
    "        self.name = name\n",
    "    \n",
    "    def whoami(self):\n",
    "        print('I am an Animal.')"
   ]
  },
  {
   "cell_type": "code",
   "execution_count": 240,
   "metadata": {},
   "outputs": [],
   "source": [
    "class Pet(Animal):\n",
    "    def __init__(self, name) -> None:\n",
    "        Animal.__init__(self, name)\n",
    "    \n",
    "    def speak(self):\n",
    "        raise NotImplementedError('Subclass must implement this abstract method')\n"
   ]
  },
  {
   "cell_type": "code",
   "execution_count": 259,
   "metadata": {},
   "outputs": [],
   "source": [
    "class Dog(Pet):\n",
    "    cmpt = 0\n",
    "    \n",
    "    def __init__(self, name, height, breed='Lab', spots=False) -> None:\n",
    "        Pet.__init__(self, name)\n",
    "        self.height = height\n",
    "        self.breed = breed\n",
    "        self.spots = spots\n",
    "        Dog.cmpt = Dog.cmpt + 1\n",
    "        self.id = Dog.cmpt\n",
    "    \n",
    "    def __str__(self):\n",
    "        return f'Dog: (\\'name\\', {self.name}), (\\'height\\', {self.height}), (\\'breed\\', {self.breed})'\n",
    "    def __len__(self):\n",
    "        return self.height\n",
    "    def __def__(self):\n",
    "        Dog.cmpt = Dog.cmpt - 1\n",
    "        \n",
    "    \n",
    "    def bark(self):\n",
    "        print(f'WOOF! My name is {self.name}, I am a {self.breed}. (id={self.id})')\n",
    "        \n",
    "    def speak(self):\n",
    "        print(f'{self.name} says woof!')\n"
   ]
  },
  {
   "cell_type": "code",
   "execution_count": 260,
   "metadata": {},
   "outputs": [
    {
     "name": "stdout",
     "output_type": "stream",
     "text": [
      "I am an Animal.\n",
      "WOOF! My name is Leo, I am a Huskie. (id=1)\n"
     ]
    }
   ],
   "source": [
    "dog = Dog(name='Leo', height=.9, breed='Huskie')\n",
    "dog.whoami()\n",
    "dog.bark()"
   ]
  },
  {
   "cell_type": "code",
   "execution_count": 261,
   "metadata": {},
   "outputs": [
    {
     "name": "stdout",
     "output_type": "stream",
     "text": [
      "WOOF! My name is Frankie, I am a Lab. (id=2)\n"
     ]
    }
   ],
   "source": [
    "dog2 = Dog(name='Frankie', height=.3)\n",
    "dog2.bark()"
   ]
  },
  {
   "cell_type": "markdown",
   "metadata": {},
   "source": [
    "### Polymorphism"
   ]
  },
  {
   "cell_type": "code",
   "execution_count": 262,
   "metadata": {},
   "outputs": [],
   "source": [
    "class Cat(Pet):    \n",
    "    def __init__(self, name) -> None:\n",
    "        Pet.__init__(self, name)    \n",
    "            \n",
    "    def __str__(self):\n",
    "        return f'Cat: (\\'name\\', {self.name})'\n",
    "        \n",
    "    def speak(self):\n",
    "        print(f'{self.name} says miaw!')\n"
   ]
  },
  {
   "cell_type": "code",
   "execution_count": 263,
   "metadata": {},
   "outputs": [
    {
     "name": "stdout",
     "output_type": "stream",
     "text": [
      "Leo says woof!\n"
     ]
    }
   ],
   "source": [
    "dog.speak()"
   ]
  },
  {
   "cell_type": "code",
   "execution_count": 264,
   "metadata": {},
   "outputs": [
    {
     "name": "stdout",
     "output_type": "stream",
     "text": [
      "Minouh says miaw!\n"
     ]
    }
   ],
   "source": [
    "cat = Cat(name='Minouh')\n",
    "cat.speak()\n"
   ]
  },
  {
   "cell_type": "markdown",
   "metadata": {},
   "source": [
    "### special methods"
   ]
  },
  {
   "cell_type": "code",
   "execution_count": 266,
   "metadata": {},
   "outputs": [
    {
     "name": "stdout",
     "output_type": "stream",
     "text": [
      "Cat: ('name', Minouh)\n",
      "Dog: ('name', Leo), ('height', 0.9), ('breed', Huskie)\n"
     ]
    }
   ],
   "source": [
    "print(cat)\n",
    "print(dog)\n",
    "print()\n",
    "print()\n",
    "print()\n",
    "print()"
   ]
  },
  {
   "cell_type": "code",
   "execution_count": null,
   "metadata": {},
   "outputs": [],
   "source": []
  }
 ],
 "metadata": {
  "kernelspec": {
   "display_name": "cuda-env",
   "language": "python",
   "name": "python3"
  },
  "language_info": {
   "codemirror_mode": {
    "name": "ipython",
    "version": 3
   },
   "file_extension": ".py",
   "mimetype": "text/x-python",
   "name": "python",
   "nbconvert_exporter": "python",
   "pygments_lexer": "ipython3",
   "version": "3.11.5"
  }
 },
 "nbformat": 4,
 "nbformat_minor": 2
}
