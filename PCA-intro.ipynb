{
 "cells": [
  {
   "cell_type": "markdown",
   "id": "857ec794",
   "metadata": {},
   "source": [
    "# PCA: Principal Component Analysis (Intro)"
   ]
  },
  {
   "cell_type": "markdown",
   "id": "1e8ff97a",
   "metadata": {},
   "source": [
    "### Definition"
   ]
  },
  {
   "cell_type": "markdown",
   "id": "06495eae",
   "metadata": {},
   "source": [
    "1. A PC is a linear combinaison of varibles\n",
    "2. The scaled one unit-long-vector for a PC is called **singular vector** or **Eigenvector**\n",
    "3. The proportion of each variable for one-unit vector are called **Loading score**\n",
    "4. PCA call the sum of the squares distances for the line that best fit the data the **Eigenvalue for PC1**\n",
    "5. SVD: Singular Value Decomposition\n",
    "6. The **Scree plot** is a graphical representation of a percentage of variation that each PC accounts for\n",
    "7. The proportion of variation that each PCs account for is given by the equation: \n",
    "   \n",
    "   For $k$ PCs $$ ratio(PC_i) = {SSDistance(PC_i) \\over \\sum_{j=1}^{k}{SSDistance(PC_j)}} $$"
   ]
  },
  {
   "cell_type": "markdown",
   "id": "574d8193",
   "metadata": {},
   "source": [
    "### Make up data"
   ]
  },
  {
   "cell_type": "code",
   "execution_count": 12,
   "id": "95f6e679",
   "metadata": {},
   "outputs": [],
   "source": [
    "import pandas as pd \n",
    "import numpy as np\n",
    "import random as rd\n",
    "from sklearn.decomposition import PCA\n",
    "from sklearn.preprocessing import StandardScaler, scale\n",
    "import matplotlib.pyplot as plt"
   ]
  },
  {
   "cell_type": "code",
   "execution_count": 13,
   "id": "bc8f8921",
   "metadata": {},
   "outputs": [
    {
     "data": {
      "text/html": [
       "<div>\n",
       "<style scoped>\n",
       "    .dataframe tbody tr th:only-of-type {\n",
       "        vertical-align: middle;\n",
       "    }\n",
       "\n",
       "    .dataframe tbody tr th {\n",
       "        vertical-align: top;\n",
       "    }\n",
       "\n",
       "    .dataframe thead th {\n",
       "        text-align: right;\n",
       "    }\n",
       "</style>\n",
       "<table border=\"1\" class=\"dataframe\">\n",
       "  <thead>\n",
       "    <tr style=\"text-align: right;\">\n",
       "      <th></th>\n",
       "      <th>wild-type1</th>\n",
       "      <th>wild-type2</th>\n",
       "      <th>wild-type3</th>\n",
       "      <th>wild-type4</th>\n",
       "      <th>wild-type5</th>\n",
       "      <th>knock-out1</th>\n",
       "      <th>knock-out2</th>\n",
       "      <th>knock-out3</th>\n",
       "      <th>knock-out4</th>\n",
       "      <th>knock-out5</th>\n",
       "    </tr>\n",
       "  </thead>\n",
       "  <tbody>\n",
       "    <tr>\n",
       "      <th>gene1</th>\n",
       "      <td>824</td>\n",
       "      <td>782</td>\n",
       "      <td>867</td>\n",
       "      <td>828</td>\n",
       "      <td>792</td>\n",
       "      <td>104</td>\n",
       "      <td>130</td>\n",
       "      <td>125</td>\n",
       "      <td>134</td>\n",
       "      <td>111</td>\n",
       "    </tr>\n",
       "    <tr>\n",
       "      <th>gene2</th>\n",
       "      <td>899</td>\n",
       "      <td>816</td>\n",
       "      <td>898</td>\n",
       "      <td>878</td>\n",
       "      <td>914</td>\n",
       "      <td>886</td>\n",
       "      <td>896</td>\n",
       "      <td>893</td>\n",
       "      <td>882</td>\n",
       "      <td>889</td>\n",
       "    </tr>\n",
       "    <tr>\n",
       "      <th>gene3</th>\n",
       "      <td>69</td>\n",
       "      <td>94</td>\n",
       "      <td>75</td>\n",
       "      <td>66</td>\n",
       "      <td>86</td>\n",
       "      <td>958</td>\n",
       "      <td>933</td>\n",
       "      <td>904</td>\n",
       "      <td>962</td>\n",
       "      <td>943</td>\n",
       "    </tr>\n",
       "    <tr>\n",
       "      <th>gene4</th>\n",
       "      <td>486</td>\n",
       "      <td>493</td>\n",
       "      <td>510</td>\n",
       "      <td>492</td>\n",
       "      <td>484</td>\n",
       "      <td>930</td>\n",
       "      <td>920</td>\n",
       "      <td>937</td>\n",
       "      <td>891</td>\n",
       "      <td>988</td>\n",
       "    </tr>\n",
       "    <tr>\n",
       "      <th>gene5</th>\n",
       "      <td>128</td>\n",
       "      <td>135</td>\n",
       "      <td>137</td>\n",
       "      <td>148</td>\n",
       "      <td>136</td>\n",
       "      <td>673</td>\n",
       "      <td>705</td>\n",
       "      <td>681</td>\n",
       "      <td>617</td>\n",
       "      <td>668</td>\n",
       "    </tr>\n",
       "  </tbody>\n",
       "</table>\n",
       "</div>"
      ],
      "text/plain": [
       "      wild-type1 wild-type2 wild-type3 wild-type4 wild-type5 knock-out1  \\\n",
       "gene1        824        782        867        828        792        104   \n",
       "gene2        899        816        898        878        914        886   \n",
       "gene3         69         94         75         66         86        958   \n",
       "gene4        486        493        510        492        484        930   \n",
       "gene5        128        135        137        148        136        673   \n",
       "\n",
       "      knock-out2 knock-out3 knock-out4 knock-out5  \n",
       "gene1        130        125        134        111  \n",
       "gene2        896        893        882        889  \n",
       "gene3        933        904        962        943  \n",
       "gene4        920        937        891        988  \n",
       "gene5        705        681        617        668  "
      ]
     },
     "execution_count": 13,
     "metadata": {},
     "output_type": "execute_result"
    }
   ],
   "source": [
    "genes = ['gene' + str(i) for i in range(1, 101)]\n",
    "wt = ['wild-type' + str(i) for i in range(1, 6)]\n",
    "ko = ['knock-out' + str(i) for i in range(1, 6)]\n",
    "\n",
    "data = pd.DataFrame(columns=[*wt, *ko], index=genes)\n",
    "\n",
    "for gene in data.index:\n",
    "    data.loc[gene, 'wild-type1':'wild-type5'] = np.random.poisson(lam=rd.randrange(10, 1000), size=5)\n",
    "    data.loc[gene, 'knock-out1':'knock-out5'] = np.random.poisson(lam=rd.randrange(10, 1000), size=5)\n",
    "    \n",
    "data.head()"
   ]
  },
  {
   "cell_type": "markdown",
   "id": "5bd20eb2",
   "metadata": {},
   "source": [
    "### use PCA"
   ]
  },
  {
   "cell_type": "markdown",
   "id": "6d9092d7",
   "metadata": {},
   "source": [
    "#### centering and scaling the data"
   ]
  },
  {
   "cell_type": "code",
   "execution_count": 18,
   "id": "40c1c064",
   "metadata": {},
   "outputs": [],
   "source": [
    "scaled_data = scale(data.T)\n",
    "# scaled_data = StandardScaler.fit_transform(X=data.T)\n"
   ]
  },
  {
   "cell_type": "markdown",
   "id": "cf2fdb1e",
   "metadata": {},
   "source": [
    "### Variation of each P. Component"
   ]
  },
  {
   "cell_type": "code",
   "execution_count": 20,
   "id": "2a760db6",
   "metadata": {},
   "outputs": [],
   "source": [
    "pca = PCA()\n",
    "pca.fit(scaled_data)\n",
    "pca_data = pca.transform(scaled_data)"
   ]
  },
  {
   "cell_type": "code",
   "execution_count": 25,
   "id": "49da07e1",
   "metadata": {},
   "outputs": [
    {
     "data": {
      "image/png": "[encoded data removed]",
      "text/plain": [
       "<Figure size 432x288 with 1 Axes>"
      ]
     },
     "metadata": {
      "needs_background": "light"
     },
     "output_type": "display_data"
    }
   ],
   "source": [
    "pcs_percentage_variation = np.round(pca.explained_variance_ratio_ * 100, decimals=1)\n",
    "pcs_labels = ['PC' + str(i) for i in range(1, len(pcs_percentage_variation) + 1)]\n",
    "\n",
    "plt.bar(x=range(1, len(pcs_percentage_variation) + 1), height=pcs_percentage_variation, tick_label=pcs_labels)\n",
    "plt.ylabel('Percentage of Explained Variance')\n",
    "plt.xlabel('Principal Component')\n",
    "plt.title('Scree Plot')\n",
    "plt.show()"
   ]
  },
  {
   "cell_type": "markdown",
   "id": "8298c8a9",
   "metadata": {},
   "source": [
    "### PCA graph"
   ]
  },
  {
   "cell_type": "code",
   "execution_count": 28,
   "id": "b2c683a3",
   "metadata": {},
   "outputs": [
    {
     "data": {
      "text/plain": [
       "Text(0, 0.5, 'PC2 - 2.2%')"
      ]
     },
     "execution_count": 28,
     "metadata": {},
     "output_type": "execute_result"
    },
    {
     "data": {
      "image/png": "[encoded data removed]",
      "text/plain": [
       "<Figure size 432x288 with 1 Axes>"
      ]
     },
     "metadata": {
      "needs_background": "light"
     },
     "output_type": "display_data"
    }
   ],
   "source": [
    "pca_df = pd.DataFrame(pca_data, index=[*wt, *ko], columns=pcs_labels)\n",
    "\n",
    "plt.scatter(pca_df.PC1, pca_df.PC2)\n",
    "plt.title('My PCA Graph')\n",
    "plt.xlabel('PC1 - {0}%'.format(pcs_percentage_variation[0]))\n",
    "plt.ylabel('PC2 - {0}%'.format(pcs_percentage_variation[1]))\n"
   ]
  },
  {
   "cell_type": "markdown",
   "id": "d7d8a0a8",
   "metadata": {},
   "source": [
    "### Loading score (proportion/impact of each variable)"
   ]
  },
  {
   "cell_type": "code",
   "execution_count": 29,
   "id": "7e4b7afe",
   "metadata": {},
   "outputs": [
    {
     "data": {
      "text/plain": [
       "gene28    0.104297\n",
       "gene79    0.104294\n",
       "gene62    0.104288\n",
       "gene12   -0.104276\n",
       "gene87   -0.104270\n",
       "gene67    0.104269\n",
       "gene8    -0.104252\n",
       "gene20    0.104219\n",
       "gene49   -0.104206\n",
       "gene16    0.104203\n",
       "dtype: float64"
      ]
     },
     "execution_count": 29,
     "metadata": {},
     "output_type": "execute_result"
    }
   ],
   "source": [
    "loading_scores = pd.Series(pca.components_[0], index=genes)\n",
    "sorted_loading_scores = loading_scores.abs().sort_values(ascending=False)\n",
    "\n",
    "top_10_genes = sorted_loading_scores[0:10].index.values\n",
    "\n",
    "loading_scores[top_10_genes]"
   ]
  }
 ],
 "metadata": {
  "kernelspec": {
   "display_name": "Python 3",
   "language": "python",
   "name": "python3"
  },
  "language_info": {
   "codemirror_mode": {
    "name": "ipython",
    "version": 3
   },
   "file_extension": ".py",
   "mimetype": "text/x-python",
   "name": "python",
   "nbconvert_exporter": "python",
   "pygments_lexer": "ipython3",
   "version": "3.6.9"
  }
 },
 "nbformat": 4,
 "nbformat_minor": 5
}
