{
 "cells": [
  {
   "cell_type": "markdown",
   "id": "857ec794",
   "metadata": {},
   "source": [
    "# PCA: Principal Component Analysis (Intro)"
   ]
  },
  {
   "cell_type": "markdown",
   "id": "1e2c9a3a",
   "metadata": {},
   "source": [
    "### Definition"
   ]
  },
  {
   "cell_type": "markdown",
   "id": "f9e93d2c",
   "metadata": {},
   "source": [
    "1. A PC is a linear combinaison of varibles\n",
    "2. The scaled one unit-long-vector for a PC is called **singular vector** or **Eigenvector**\n",
    "3. The proportion of each variable for one-unit vector are called **Loading score**\n",
    "4. PCA call the sum of the squares distances for the line that best fit the data the **Eigenvalue for PC1**\n",
    "5. SVD: Singular Value Decomposition\n",
    "6. The **Scree plot** is a graphical representation of a percentage of variation that each PC accounts for\n",
    "7. The proportion of variation that each PCs account for is given by the equation: \n",
    "   \n",
    "   For $k$ PCs $$ ratio(PC_i) = {SSDistance(PC_i) \\over \\sum_{j=1}^{k}{SSDistance(PC_j)}} $$"
   ]
  },
  {
   "cell_type": "markdown",
   "id": "052b3b42",
   "metadata": {},
   "source": [
    "### Make up data"
   ]
  },
  {
   "cell_type": "code",
   "execution_count": 2,
   "id": "1ee04ff9",
   "metadata": {},
   "outputs": [],
   "source": [
    "import pandas as pd \n",
    "import numpy as np\n",
    "import random as rd\n",
    "from sklearn.decomposition import PCA\n",
    "from sklearn import preprocessing\n",
    "import matplotlib.pyplot as plt"
   ]
  },
  {
   "cell_type": "code",
   "execution_count": null,
   "id": "fc350986",
   "metadata": {},
   "outputs": [],
   "source": [
    "genes = ['gene' + str(i) for i in range(1, 101)]\n",
    "wt = "
   ]
  },
  {
   "cell_type": "markdown",
   "id": "3e374246",
   "metadata": {},
   "source": [
    "### use PCA"
   ]
  },
  {
   "cell_type": "markdown",
   "id": "21d8f9e5",
   "metadata": {},
   "source": [
    "### Variation of each component"
   ]
  },
  {
   "cell_type": "markdown",
   "id": "1e20cef2",
   "metadata": {},
   "source": [
    "### PCA graph"
   ]
  },
  {
   "cell_type": "markdown",
   "id": "f3cdb468",
   "metadata": {},
   "source": [
    "### Loading score (proportion/impact of each variable)"
   ]
  }
 ],
 "metadata": {
  "kernelspec": {
   "display_name": "Python 3",
   "language": "python",
   "name": "python3"
  },
  "language_info": {
   "codemirror_mode": {
    "name": "ipython",
    "version": 3
   },
   "file_extension": ".py",
   "mimetype": "text/x-python",
   "name": "python",
   "nbconvert_exporter": "python",
   "pygments_lexer": "ipython3",
   "version": "3.6.9"
  }
 },
 "nbformat": 4,
 "nbformat_minor": 5
}
