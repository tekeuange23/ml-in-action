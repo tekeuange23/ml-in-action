{
 "cells": [
  {
   "cell_type": "markdown",
   "id": "857ec794",
   "metadata": {},
   "source": [
    "# PCA: Principal Component Analysis (Intro)"
   ]
  },
  {
   "cell_type": "markdown",
   "id": "1e8ff97a",
   "metadata": {},
   "source": [
    "### Definition"
   ]
  },
  {
   "cell_type": "markdown",
   "id": "06495eae",
   "metadata": {},
   "source": [
    "1. A PC is a linear combinaison of varibles\n",
    "2. The scaled one unit-long-vector for a PC is called **singular vector** or **Eigenvector**\n",
    "3. The proportion of each variable for one-unit vector are called **Loading score**\n",
    "4. PCA call the sum of the squares distances for the line that best fit the data the **Eigenvalue for PC1**\n",
    "5. SVD: Singular Value Decomposition\n",
    "6. The **Scree plot** is a graphical representation of a percentage of variation that each PC accounts for\n",
    "7. The proportion of variation that each PCs account for is given by the equation: \n",
    "   \n",
    "   For $k$ PCs $$ ratio(PC_i) = {SSDistance(PC_i) \\over \\sum_{j=1}^{k}{SSDistance(PC_j)}} $$"
   ]
  },
  {
   "cell_type": "markdown",
   "id": "574d8193",
   "metadata": {},
   "source": [
    "### Make up data"
   ]
  },
  {
   "cell_type": "code",
   "execution_count": 1,
   "id": "95f6e679",
   "metadata": {},
   "outputs": [],
   "source": [
    "import pandas as pd \n",
    "import numpy as np\n",
    "import random as rd\n",
    "from sklearn.decomposition import PCA\n",
    "from sklearn.preprocessing import StandardScaler, scale\n",
    "import matplotlib.pyplot as plt"
   ]
  },
  {
   "cell_type": "code",
   "execution_count": 2,
   "id": "bc8f8921",
   "metadata": {},
   "outputs": [
    {
     "data": {
      "text/html": [
       "<div>\n",
       "<style scoped>\n",
       "    .dataframe tbody tr th:only-of-type {\n",
       "        vertical-align: middle;\n",
       "    }\n",
       "\n",
       "    .dataframe tbody tr th {\n",
       "        vertical-align: top;\n",
       "    }\n",
       "\n",
       "    .dataframe thead th {\n",
       "        text-align: right;\n",
       "    }\n",
       "</style>\n",
       "<table border=\"1\" class=\"dataframe\">\n",
       "  <thead>\n",
       "    <tr style=\"text-align: right;\">\n",
       "      <th></th>\n",
       "      <th>wild-type1</th>\n",
       "      <th>wild-type2</th>\n",
       "      <th>wild-type3</th>\n",
       "      <th>wild-type4</th>\n",
       "      <th>wild-type5</th>\n",
       "      <th>knock-out1</th>\n",
       "      <th>knock-out2</th>\n",
       "      <th>knock-out3</th>\n",
       "      <th>knock-out4</th>\n",
       "      <th>knock-out5</th>\n",
       "    </tr>\n",
       "  </thead>\n",
       "  <tbody>\n",
       "    <tr>\n",
       "      <th>gene1</th>\n",
       "      <td>310</td>\n",
       "      <td>329</td>\n",
       "      <td>330</td>\n",
       "      <td>290</td>\n",
       "      <td>331</td>\n",
       "      <td>136</td>\n",
       "      <td>135</td>\n",
       "      <td>129</td>\n",
       "      <td>153</td>\n",
       "      <td>126</td>\n",
       "    </tr>\n",
       "    <tr>\n",
       "      <th>gene2</th>\n",
       "      <td>538</td>\n",
       "      <td>467</td>\n",
       "      <td>482</td>\n",
       "      <td>526</td>\n",
       "      <td>471</td>\n",
       "      <td>774</td>\n",
       "      <td>804</td>\n",
       "      <td>777</td>\n",
       "      <td>798</td>\n",
       "      <td>792</td>\n",
       "    </tr>\n",
       "    <tr>\n",
       "      <th>gene3</th>\n",
       "      <td>474</td>\n",
       "      <td>459</td>\n",
       "      <td>466</td>\n",
       "      <td>467</td>\n",
       "      <td>443</td>\n",
       "      <td>554</td>\n",
       "      <td>562</td>\n",
       "      <td>572</td>\n",
       "      <td>539</td>\n",
       "      <td>584</td>\n",
       "    </tr>\n",
       "    <tr>\n",
       "      <th>gene4</th>\n",
       "      <td>242</td>\n",
       "      <td>248</td>\n",
       "      <td>273</td>\n",
       "      <td>242</td>\n",
       "      <td>220</td>\n",
       "      <td>665</td>\n",
       "      <td>641</td>\n",
       "      <td>652</td>\n",
       "      <td>706</td>\n",
       "      <td>711</td>\n",
       "    </tr>\n",
       "    <tr>\n",
       "      <th>gene5</th>\n",
       "      <td>707</td>\n",
       "      <td>761</td>\n",
       "      <td>727</td>\n",
       "      <td>764</td>\n",
       "      <td>749</td>\n",
       "      <td>797</td>\n",
       "      <td>744</td>\n",
       "      <td>775</td>\n",
       "      <td>737</td>\n",
       "      <td>762</td>\n",
       "    </tr>\n",
       "  </tbody>\n",
       "</table>\n",
       "</div>"
      ],
      "text/plain": [
       "      wild-type1 wild-type2 wild-type3 wild-type4 wild-type5 knock-out1  \\\n",
       "gene1        310        329        330        290        331        136   \n",
       "gene2        538        467        482        526        471        774   \n",
       "gene3        474        459        466        467        443        554   \n",
       "gene4        242        248        273        242        220        665   \n",
       "gene5        707        761        727        764        749        797   \n",
       "\n",
       "      knock-out2 knock-out3 knock-out4 knock-out5  \n",
       "gene1        135        129        153        126  \n",
       "gene2        804        777        798        792  \n",
       "gene3        562        572        539        584  \n",
       "gene4        641        652        706        711  \n",
       "gene5        744        775        737        762  "
      ]
     },
     "execution_count": 2,
     "metadata": {},
     "output_type": "execute_result"
    }
   ],
   "source": [
    "genes = ['gene' + str(i) for i in range(1, 101)]\n",
    "wt = ['wild-type' + str(i) for i in range(1, 6)]\n",
    "ko = ['knock-out' + str(i) for i in range(1, 6)]\n",
    "\n",
    "data = pd.DataFrame(columns=[*wt, *ko], index=genes)\n",
    "\n",
    "for gene in data.index:\n",
    "    data.loc[gene, 'wild-type1':'wild-type5'] = np.random.poisson(lam=rd.randrange(10, 1000), size=5)\n",
    "    data.loc[gene, 'knock-out1':'knock-out5'] = np.random.poisson(lam=rd.randrange(10, 1000), size=5)\n",
    "    \n",
    "data.head()"
   ]
  },
  {
   "cell_type": "markdown",
   "id": "5bd20eb2",
   "metadata": {},
   "source": [
    "### use PCA"
   ]
  },
  {
   "cell_type": "markdown",
   "id": "6d9092d7",
   "metadata": {},
   "source": [
    "#### centering and scaling the data"
   ]
  },
  {
   "cell_type": "code",
   "execution_count": 3,
   "id": "40c1c064",
   "metadata": {},
   "outputs": [],
   "source": [
    "scaled_data = scale(data.T)\n",
    "# scaled_data = StandardScaler.fit_transform(X=data.T)\n"
   ]
  },
  {
   "cell_type": "markdown",
   "id": "cf2fdb1e",
   "metadata": {},
   "source": [
    "### Variation of each P. Component"
   ]
  },
  {
   "cell_type": "code",
   "execution_count": 25,
   "id": "2a760db6",
   "metadata": {},
   "outputs": [],
   "source": [
    "# pca = PCA(n_components=0.9)\n",
    "pca = PCA()\n",
    "pca.fit(scaled_data)\n",
    "pca_data = pca.transform(scaled_data)"
   ]
  },
  {
   "cell_type": "code",
   "execution_count": 26,
   "id": "49da07e1",
   "metadata": {},
   "outputs": [
    {
     "data": {
      "image/png": "[encoded data removed]",
      "text/plain": [
       "<Figure size 432x288 with 1 Axes>"
      ]
     },
     "metadata": {
      "needs_background": "light"
     },
     "output_type": "display_data"
    }
   ],
   "source": [
    "pcs_percentage_variation = np.round(pca.explained_variance_ratio_ * 100, decimals=1)\n",
    "pcs_labels = ['PC' + str(i) for i in range(1, len(pcs_percentage_variation) + 1)]\n",
    "\n",
    "plt.bar(x=range(1, len(pcs_percentage_variation) + 1), height=pcs_percentage_variation, tick_label=pcs_labels)\n",
    "plt.ylabel('Percentage of Explained Variance')\n",
    "plt.xlabel('Principal Component')\n",
    "plt.title('Scree Plot')\n",
    "plt.show()"
   ]
  },
  {
   "cell_type": "markdown",
   "id": "8298c8a9",
   "metadata": {},
   "source": [
    "### PCA graph"
   ]
  },
  {
   "cell_type": "code",
   "execution_count": 6,
   "id": "b2c683a3",
   "metadata": {},
   "outputs": [
    {
     "data": {
      "text/plain": [
       "Text(0, 0.5, 'PC2 - 3.0%')"
      ]
     },
     "execution_count": 6,
     "metadata": {},
     "output_type": "execute_result"
    },
    {
     "data": {
      "image/png": "[encoded data removed]",
      "text/plain": [
       "<Figure size 432x288 with 1 Axes>"
      ]
     },
     "metadata": {
      "needs_background": "light"
     },
     "output_type": "display_data"
    }
   ],
   "source": [
    "pca_df = pd.DataFrame(pca_data, index=[*wt, *ko], columns=pcs_labels)\n",
    "\n",
    "plt.scatter(pca_df.PC1, pca_df.PC2)\n",
    "plt.title('My PCA Graph')\n",
    "plt.xlabel('PC1 - {0}%'.format(pcs_percentage_variation[0]))\n",
    "plt.ylabel('PC2 - {0}%'.format(pcs_percentage_variation[1]))\n"
   ]
  },
  {
   "cell_type": "markdown",
   "id": "d7d8a0a8",
   "metadata": {},
   "source": [
    "### Loading score (proportion/impact of each variable)"
   ]
  },
  {
   "cell_type": "code",
   "execution_count": 7,
   "id": "7e4b7afe",
   "metadata": {},
   "outputs": [
    {
     "data": {
      "text/plain": [
       "gene27    0.105456\n",
       "gene38    0.105403\n",
       "gene18    0.105399\n",
       "gene96   -0.105396\n",
       "gene6    -0.105379\n",
       "gene40    0.105360\n",
       "gene61    0.105355\n",
       "gene69   -0.105352\n",
       "gene62    0.105350\n",
       "gene33    0.105334\n",
       "dtype: float64"
      ]
     },
     "execution_count": 7,
     "metadata": {},
     "output_type": "execute_result"
    }
   ],
   "source": [
    "loading_scores = pd.Series(pca.components_[0], index=genes)\n",
    "sorted_loading_scores = loading_scores.abs().sort_values(ascending=False)\n",
    "\n",
    "top_10_genes = sorted_loading_scores[0:10].index.values\n",
    "\n",
    "loading_scores[top_10_genes]"
   ]
  }
 ],
 "metadata": {
  "kernelspec": {
   "display_name": "Python 3",
   "language": "python",
   "name": "python3"
  },
  "language_info": {
   "codemirror_mode": {
    "name": "ipython",
    "version": 3
   },
   "file_extension": ".py",
   "mimetype": "text/x-python",
   "name": "python",
   "nbconvert_exporter": "python",
   "pygments_lexer": "ipython3",
   "version": "3.6.9"
  }
 },
 "nbformat": 4,
 "nbformat_minor": 5
}
